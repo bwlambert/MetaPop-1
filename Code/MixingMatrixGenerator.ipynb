{
 "cells": [
  {
   "cell_type": "code",
   "execution_count": 1,
   "metadata": {
    "collapsed": true
   },
   "outputs": [],
   "source": [
    "import numpy as np\n",
    "import pandas as pd\n",
    "import math\n",
    "import scipy as sp\n",
    "import matplotlib.pyplot as plt\n",
    "from IPython.display import display\n",
    "import sys\n",
    "import pickle\n",
    "import seaborn\n",
    "seaborn.set_style('ticks')\n",
    "%matplotlib inline\n",
    "from matplotlib import rc\n",
    "rc('font',**{'family':'sans-serif','sans-serif':['Helvetica']})\n",
    "## for Palatino and other serif fonts use:\n",
    "#rc('font',**{'family':'serif','serif':['Palatino']})\n",
    "rc('text', usetex=True)"
   ]
  },
  {
   "cell_type": "markdown",
   "metadata": {},
   "source": [
    "####Generate a mixing matrix for use in metapopulation code###\n",
    "* Size will be npatchxnpatch\n",
    "* Dispersion kernel defined by:  \n",
    "$ p(d) = \\frac{1}{N} \\exp\\left(-(d/\\alpha)^c\\right)$  \n",
    "$\\alpha$ sets the length scale of dispersion, and $c$ adjusts the 'tail fatness.' Higher $c$ means fatter (skinnier??) tails. $d$ is the distance between the points.\n",
    "* Normalization constant is:  \n",
    "$N = \\frac{2\\pi \\alpha^2 \\Gamma(2/c)}{c}$\n",
    "\n",
    "\n",
    "#### Doing 1/r^n instead ####\n",
    "\n",
    "Because it was kind of hard to interpret the kernel above, we're just going to do a 1/r^n function for the mixing matrix\n"
   ]
  },
  {
   "cell_type": "code",
   "execution_count": 2,
   "metadata": {
    "collapsed": true
   },
   "outputs": [],
   "source": [
    "#Set constants for the matrix you want.\n",
    "n = 20         #size of an edge (even numbers make the movie easier)\n",
    "npatch = n*n   #npatch is nxn - the matrix is npatchxnpatch\n",
    "alpha = 1.     #length scale\n",
    "cinj = 0.5        #tail weight (lower c -> higher tail weight)"
   ]
  },
  {
   "cell_type": "code",
   "execution_count": 3,
   "metadata": {
    "collapsed": false
   },
   "outputs": [],
   "source": [
    "def distance(x1,x2,y1,y2):\n",
    "    return np.sqrt((x1-x2)**2+(y1-y2)**2)\n",
    "def kernel(d,a,c):\n",
    "    N = 2.*np.pi*a*sp.special.gamma(1./c)/c\n",
    "    pofd = np.exp(-((d/a)**c))\n",
    "    return pofd/N"
   ]
  },
  {
   "cell_type": "code",
   "execution_count": 4,
   "metadata": {
    "collapsed": false
   },
   "outputs": [
    {
     "name": "stderr",
     "output_type": "stream",
     "text": [
      "/Users/laurasampson/anaconda/lib/python2.7/site-packages/matplotlib/font_manager.py:1328: UserWarning: findfont: Font family [u'sans-serif'] not found. Falling back to DejaVu Sans\n",
      "  (prop.get_family(), self.defaultFamily[fontext]))\n"
     ]
    },
    {
     "data": {
      "image/png": "[encoded data removed]",
      "text/plain": [
       "<Figure size 432x288 with 1 Axes>"
      ]
     },
     "metadata": {},
     "output_type": "display_data"
    }
   ],
   "source": [
    "dist = np.linspace(0.5,35,100) #For normalization purposes, should neighboring cells be 'zero'? (Yes.)\n",
    "dx = dist[1]-dist[0]\n",
    "\n",
    "ctest = [0.1,0.5,1.,1.5,2.]\n",
    "alpha = 5.\n",
    "for cinj in ctest:\n",
    "    k = kernel(dist,alpha,cinj)\n",
    "    k = 1./(dist**cinj)\n",
    "    #k /= sum(k*dx)   #Normalize\n",
    "    plt.plot(dist,k)\n",
    "    #plt.ylim(0,0.4)"
   ]
  },
  {
   "cell_type": "code",
   "execution_count": 9,
   "metadata": {
    "collapsed": false
   },
   "outputs": [],
   "source": [
    "#For a given alpha and c, you want to output an npatchxnpatch matrix with k giving the values of each cell. \n",
    "#You should only have to calculate k once - it just gets 'shifted' for each new row. The trick is to calculate \n",
    "#the distance between each point in the row.\n",
    "\n",
    "#Not using the complicated kernel. Do 5 c's between 0.1 and 5.0 to start. We are explicitly setting the value\n",
    "#of the mixing matrix that corresponds to the 'self mixing' to zero, so we don't have to keep track of it in the \n",
    "#metapop code.\n",
    "cinj = 10.\n",
    "alpha = 10.\n",
    "mixmat = np.zeros([n,n])\n",
    "mixmat += 0.00001\n",
    "betamat = []\n",
    "for istar in range(n):\n",
    "    for jstar in range(n):\n",
    "        for i in range(n):\n",
    "            for j in range(n):\n",
    "                dist = np.abs(np.sqrt((i-istar)**2+(j-jstar)**2))+0.5 #scaled by a bit so that min distance isn't 1.0\n",
    "                if dist<=0:\n",
    "                    dist = 0.05\n",
    "                if (i==istar)&(j==jstar):\n",
    "                    dist = 0.05\n",
    "                #k = kernel(dist,alpha,cinj)\n",
    "                k = 1./dist**cinj\n",
    "                mixmat[i,j] = k\n",
    "                \n",
    "                #To generate a diagonal mixing matrix:   \n",
    "                '''\n",
    "                mixmat[i,j] = 0.\n",
    "                '''\n",
    "        #for diagonal:        \n",
    "        #mixmat[istar,jstar] = 1.\n",
    "        #The way we're going to code it up now, [istar,jstar] should always be zero - even when using a 'diagonal'\n",
    "        #mixing matrix, becuase now the within-patch dynamics are completely separate.\n",
    "        mixmat[istar,jstar] = 0.\n",
    "        \n",
    "        mixvec = mixmat.flatten()\n",
    "        betamat.append(mixvec)\n",
    "betamat = np.array(betamat)"
   ]
  },
  {
   "cell_type": "code",
   "execution_count": 10,
   "metadata": {
    "collapsed": false
   },
   "outputs": [
    {
     "data": {
      "text/plain": [
       "'\\nR0 = 1.\\ngamma = 1.                  #Number of timesteps to recovery. Our timesteps are two weeks long, so this is just one.\\nmaxeig = R0*gamma\\n\\nfor i in range(n*n):\\n    trial = betamat[i,:].copy()                       #mixing matrix associated with individual cell\\n    trial = trial.reshape(n,n)\\n    scale = np.real(np.max(np.linalg.eigvals(trial)))\\n    betamat[i,:] *= 1./(scale*n*n)                          #Scale so the maximum eigenvalue *of each matrix* is 1.0\\n\\nprint scale\\ntrial = betamat[209,:].copy()                 #check that this worked.\\ntrial = trial.reshape(n,n)\\nprint np.max(np.linalg.eigvals(trial)) \\n'"
      ]
     },
     "execution_count": 10,
     "metadata": {},
     "output_type": "execute_result"
    }
   ],
   "source": [
    "#Need to scale so that the population mixing isn't explicitly affecting R0. Set maximum eigenvalue to 1.0.\n",
    "'''\n",
    "R0 = 1.\n",
    "gamma = 1.                  #Number of timesteps to recovery. Our timesteps are two weeks long, so this is just one.\n",
    "maxeig = R0*gamma\n",
    "\n",
    "for i in range(n*n):\n",
    "    trial = betamat[i,:].copy()                       #mixing matrix associated with individual cell\n",
    "    trial = trial.reshape(n,n)\n",
    "    scale = np.real(np.max(np.linalg.eigvals(trial)))\n",
    "    betamat[i,:] *= 1./(scale*n*n)                          #Scale so the maximum eigenvalue *of each matrix* is 1.0\n",
    "\n",
    "print scale\n",
    "trial = betamat[209,:].copy()                 #check that this worked.\n",
    "trial = trial.reshape(n,n)\n",
    "print np.max(np.linalg.eigvals(trial)) \n",
    "'''"
   ]
  },
  {
   "cell_type": "code",
   "execution_count": 11,
   "metadata": {
    "collapsed": false
   },
   "outputs": [
    {
     "name": "stdout",
     "output_type": "stream",
     "text": [
      "1.0\n"
     ]
    }
   ],
   "source": [
    "for i in range(n*n):\n",
    "    trial = betamat[i,:].copy()\n",
    "    scale = np.sum(trial)\n",
    "    scale = np.sum(scale)\n",
    "    betamat[i,:] *= 1./scale\n",
    "\n",
    "trial = betamat[209,:].copy()\n",
    "trial = trial.reshape(n,n)\n",
    "print np.sum(trial)"
   ]
  },
  {
   "cell_type": "code",
   "execution_count": 62,
   "metadata": {
    "collapsed": false
   },
   "outputs": [
    {
     "data": {
      "text/plain": [
       "<matplotlib.image.AxesImage at 0x114a68850>"
      ]
     },
     "execution_count": 62,
     "metadata": {},
     "output_type": "execute_result"
    },
    {
     "data": {
      "image/png": "[encoded data removed]",
      "text/plain": [
       "<Figure size 864x864 with 1 Axes>"
      ]
     },
     "metadata": {},
     "output_type": "display_data"
    }
   ],
   "source": [
    "plt.figure(figsize=(12,12))\n",
    "plt.imshow(trial,cmap='viridis',interpolation='none')"
   ]
  },
  {
   "cell_type": "code",
   "execution_count": 63,
   "metadata": {
    "collapsed": false
   },
   "outputs": [],
   "source": [
    "\n",
    "filename = 'mixingMatrices/BetaMc0.1_norm.hpp'\n",
    "with open(filename,\"w\") as f:\n",
    "    f.write(\"static std::array<std::array<float, nptch>, nptch> sbetaMatrix = {{\\n\")\n",
    "    for row in betamat:\n",
    "        f.write(\"{{\")\n",
    "        for i in range(npatch-1):\n",
    "            f.write(str(row[i])+\",\")\n",
    "        f.write(str(row[npatch-1])+\"}},\\n\")\n",
    "    f.write(\"}};\")\n",
    "    "
   ]
  },
  {
   "cell_type": "code",
   "execution_count": 37,
   "metadata": {
    "collapsed": true
   },
   "outputs": [],
   "source": [
    "popmat = np.ones([n,n])*2."
   ]
  },
  {
   "cell_type": "code",
   "execution_count": 53,
   "metadata": {
    "collapsed": false
   },
   "outputs": [
    {
     "name": "stdout",
     "output_type": "stream",
     "text": [
      "[  2.25222612e-04   3.45387286e-04   5.51959693e-04   9.28755815e-04\n",
      "   1.67046974e-03   3.28649368e-03   7.34212395e-03   1.98922389e-02\n",
      "   7.45498845e-02   5.44476889e-01   6.93686371e-01   5.44476889e-01\n",
      "   7.45498845e-02   1.98922389e-02   7.34212395e-03   3.28649368e-03\n",
      "   1.67046974e-03   9.28755815e-04   5.51959693e-04   3.45387286e-04]\n",
      "2.0\n"
     ]
    }
   ],
   "source": [
    "one = np.sum(trial*popmat,axis=1)\n",
    "print one\n",
    "print np.sum(one)"
   ]
  },
  {
   "cell_type": "code",
   "execution_count": null,
   "metadata": {
    "collapsed": true
   },
   "outputs": [],
   "source": []
  }
 ],
 "metadata": {
  "kernelspec": {
   "display_name": "Python 2",
   "language": "python",
   "name": "python2"
  },
  "language_info": {
   "codemirror_mode": {
    "name": "ipython",
    "version": 2
   },
   "file_extension": ".py",
   "mimetype": "text/x-python",
   "name": "python",
   "nbconvert_exporter": "python",
   "pygments_lexer": "ipython2",
   "version": "2.7.12"
  }
 },
 "nbformat": 4,
 "nbformat_minor": 0
}
