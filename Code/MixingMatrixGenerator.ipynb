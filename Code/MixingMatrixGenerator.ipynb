{
 "cells": [
  {
   "cell_type": "code",
   "execution_count": 1,
   "metadata": {
    "collapsed": true
   },
   "outputs": [],
   "source": [
    "import numpy as np\n",
    "import pandas as pd\n",
    "import math\n",
    "import scipy as sp\n",
    "import matplotlib.pyplot as plt\n",
    "from IPython.display import display\n",
    "import sys\n",
    "import pickle\n",
    "import seaborn\n",
    "seaborn.set_style('ticks')\n",
    "%matplotlib inline\n",
    "from matplotlib import rc\n",
    "rc('font',**{'family':'sans-serif','sans-serif':['Helvetica']})\n",
    "## for Palatino and other serif fonts use:\n",
    "#rc('font',**{'family':'serif','serif':['Palatino']})\n",
    "rc('text', usetex=True)"
   ]
  },
  {
   "cell_type": "markdown",
   "metadata": {},
   "source": [
    "####Generate a mixing matrix for use in metapopulation code###\n",
    "* Size will be npatchxnpatch\n",
    "* Dispersion kernel defined by:  \n",
    "$ p(d) = \\frac{1}{N} \\exp\\left(-(d/\\alpha)^c\\right)$  \n",
    "$\\alpha$ sets the length scale of dispersion, and $c$ adjusts the 'tail fatness.' Higher $c$ means fatter (skinnier??) tails. $d$ is the distance between the points.\n",
    "* Normalization constant is:  \n",
    "$N = \\frac{2\\pi \\alpha^2 \\Gamma(2/c)}{c}$\n"
   ]
  },
  {
   "cell_type": "code",
   "execution_count": 2,
   "metadata": {
    "collapsed": true
   },
   "outputs": [],
   "source": [
    "#Set constants for the matrix you want.\n",
    "n = 20         #size of an edge (even numbers make the movie easier)\n",
    "npatch = n*n   #npatch is nxn - the matrix is npatchxnpatch\n",
    "alpha = 1.     #length scale\n",
    "cinj = 0.5        #tail weight (lower c -> higher tail weight)"
   ]
  },
  {
   "cell_type": "code",
   "execution_count": 3,
   "metadata": {
    "collapsed": false
   },
   "outputs": [],
   "source": [
    "def distance(x1,x2,y1,y2):\n",
    "    return np.sqrt((x1-x2)**2+(y1-y2)**2)\n",
    "def kernel(d,a,c):\n",
    "    N = 2.*np.pi*a*sp.special.gamma(1./c)/c\n",
    "    pofd = np.exp(-((d/a)**c))\n",
    "    return pofd/N"
   ]
  },
  {
   "cell_type": "code",
   "execution_count": 270,
   "metadata": {
    "collapsed": false
   },
   "outputs": [
    {
     "data": {
      "image/png": "[encoded data removed]",
      "text/plain": [
       "<Figure size 432x288 with 1 Axes>"
      ]
     },
     "metadata": {},
     "output_type": "display_data"
    }
   ],
   "source": [
    "dist = np.linspace(0.5,35,100) #For normalization purposes, should neighboring cells be 'zero'? (Yes.)\n",
    "dx = dist[1]-dist[0]\n",
    "\n",
    "ctest = [0.1,0.5,1.,1.5,2.]\n",
    "alpha = 5.\n",
    "for cinj in ctest:\n",
    "    k = kernel(dist,alpha,cinj)\n",
    "    k = 1./(dist**cinj)\n",
    "    #k /= sum(k*dx)   #Normalize\n",
    "    plt.plot(dist,k)\n",
    "    #plt.ylim(0,0.4)"
   ]
  },
  {
   "cell_type": "code",
   "execution_count": 11,
   "metadata": {
    "collapsed": false
   },
   "outputs": [
    {
     "name": "stdout",
     "output_type": "stream",
     "text": [
      "1.41421356237\n"
     ]
    }
   ],
   "source": [
    "dist = np.abs(np.sqrt((20-19)**2+(20-19)**2)) #scaled by a bit\n",
    "print dist"
   ]
  },
  {
   "cell_type": "code",
   "execution_count": 264,
   "metadata": {
    "collapsed": false
   },
   "outputs": [],
   "source": [
    "#For a given alpha and c, you want to output an npatchxnpatch matrix with k giving the values of each cell. \n",
    "#You should only have to calculate k once - it just gets 'shifted' for each new row. The trick is to calculate \n",
    "#the distance between each point in the row. If i=j, this kernel should be the non-mixed value. Say 0.1, whatever. It's\n",
    "#going to get scaled anyway.\n",
    "cinj = 1.2\n",
    "alpha = 10.\n",
    "mixmat = np.zeros([n,n])\n",
    "mixmat += 0.00001\n",
    "betamat = []\n",
    "for istar in range(n):\n",
    "    for jstar in range(n):\n",
    "        for i in range(n):\n",
    "            for j in range(n):\n",
    "                dist = np.abs(np.sqrt((i-istar)**2+(j-jstar)**2))+0.5 #scaled by a bit so that min distance isn't 1.0\n",
    "                if dist<=0:\n",
    "                    dist = 0.05\n",
    "                if (i==istar)&(j==jstar):\n",
    "                    dist = 0.05\n",
    "                k = kernel(dist,alpha,cinj)\n",
    "                k = 1./dist**0.1\n",
    "                mixmat[i,j] = k\n",
    "                \n",
    "                #To generate a diagonal mixing matrix:   \n",
    "                '''\n",
    "                mixmat[i,j] = 0.\n",
    "                '''\n",
    "        #for diagonal:        \n",
    "        #mixmat[istar,jstar] = 1.\n",
    "        #The way we're going to code it up now, [istar,jstar] should always be zero - even when using a 'diagonal'\n",
    "        #mixing matrix, becuase now the within-patch dynamics are completely separate.\n",
    "        mixmat[istar,jstar] = 0.\n",
    "        \n",
    "        mixvec = mixmat.flatten()\n",
    "        betamat.append(mixvec)\n",
    "betamat = np.array(betamat)"
   ]
  },
  {
   "cell_type": "code",
   "execution_count": 265,
   "metadata": {
    "collapsed": false
   },
   "outputs": [
    {
     "name": "stdout",
     "output_type": "stream",
     "text": [
      "15.3800099398\n",
      "(1+0j)\n"
     ]
    }
   ],
   "source": [
    "#Need to scale so that the population mixing isn't explicitly affecting R0. Set maximum eigenvalue to 1.0.\n",
    "R0 = 1.\n",
    "gamma = 1.                  #Number of timesteps to recovery. Our timesteps are two weeks long, so this is just one.\n",
    "maxeig = R0*gamma\n",
    "\n",
    "for i in range(n*n):\n",
    "    trial = betamat[i,:].copy()                       #mixing matrix associated with individual cell\n",
    "    trial = trial.reshape(n,n)\n",
    "    scale = np.real(np.max(np.linalg.eigvals(trial)))\n",
    "    betamat[i,:] *= 1./scale                          #Scale so the maximum eigenvalue *of each matrix* is 1.0\n",
    "\n",
    "print scale\n",
    "trial = betamat[209,:].copy()                 #check that this worked.\n",
    "trial = trial.reshape(n,n)\n",
    "print np.max(np.linalg.eigvals(trial)) "
   ]
  },
  {
   "cell_type": "code",
   "execution_count": 266,
   "metadata": {
    "collapsed": false
   },
   "outputs": [
    {
     "data": {
      "text/plain": [
       "<matplotlib.image.AxesImage at 0x1245fa890>"
      ]
     },
     "execution_count": 266,
     "metadata": {},
     "output_type": "execute_result"
    },
    {
     "data": {
      "image/png": "[encoded data removed]",
      "text/plain": [
       "<Figure size 864x864 with 1 Axes>"
      ]
     },
     "metadata": {},
     "output_type": "display_data"
    }
   ],
   "source": [
    "plt.figure(figsize=(12,12))\n",
    "plt.imshow(trial,cmap='viridis',interpolation='none')"
   ]
  },
  {
   "cell_type": "code",
   "execution_count": 92,
   "metadata": {
    "collapsed": false
   },
   "outputs": [
    {
     "data": {
      "text/plain": [
       "'\\nfilename = \\'mixingMatrices/Diagonal.hpp\\'\\nwith open(filename,\"w\") as f:\\n    f.write(\"static std::array<std::array<float, nptch>, nptch> sbetaMatrix = {{\\n\")\\n    for row in betamat:\\n        f.write(\"{{\")\\n        for i in range(npatch-1):\\n            f.write(str(row[i])+\",\")\\n        f.write(str(row[npatch-1])+\"}},\\n\")\\n    f.write(\"}};\")\\n    '"
      ]
     },
     "execution_count": 92,
     "metadata": {},
     "output_type": "execute_result"
    }
   ],
   "source": [
    "'''\n",
    "filename = 'mixingMatrices/Diagonal.hpp'\n",
    "with open(filename,\"w\") as f:\n",
    "    f.write(\"static std::array<std::array<float, nptch>, nptch> sbetaMatrix = {{\\n\")\n",
    "    for row in betamat:\n",
    "        f.write(\"{{\")\n",
    "        for i in range(npatch-1):\n",
    "            f.write(str(row[i])+\",\")\n",
    "        f.write(str(row[npatch-1])+\"}},\\n\")\n",
    "    f.write(\"}};\")\n",
    "    '''"
   ]
  },
  {
   "cell_type": "code",
   "execution_count": 135,
   "metadata": {
    "collapsed": false
   },
   "outputs": [
    {
     "name": "stdout",
     "output_type": "stream",
     "text": [
      "0.102520464305\n",
      "0.145\n"
     ]
    }
   ],
   "source": [
    "popmat = np.ones([n,n])*np.abs(np.random.normal(loc=2,scale=2,size=[n,n]))\n",
    "rate = sum(sum(trial*popmat))/(n*n)\n",
    "print rate\n",
    "draws = np.random.poisson(rate,size=200)\n",
    "print np.mean (draws)"
   ]
  },
  {
   "cell_type": "code",
   "execution_count": 94,
   "metadata": {
    "collapsed": false
   },
   "outputs": [
    {
     "data": {
      "image/png": "[encoded data removed]",
      "text/plain": [
       "<Figure size 432x288 with 1 Axes>"
      ]
     },
     "metadata": {},
     "output_type": "display_data"
    }
   ],
   "source": [
    "a,b,c = plt.hist(draws,bins=[0,1,2,3,4,5,6,7,8,9,10,11,12,13,14,15,16])\n"
   ]
  },
  {
   "cell_type": "code",
   "execution_count": 243,
   "metadata": {
    "collapsed": false
   },
   "outputs": [],
   "source": [
    "cinj = [0.2,0.4,0.6,0.8,1.0,1.2,1.4,1.6,1.8,2.0]\n",
    "cinj = np.logspace(np.log10(0.1),np.log10(5.),num=10)\n",
    "popmat = np.ones([n,n])*np.abs(np.random.normal(loc=25,scale=2,size=[n,n]))\n",
    "rates2 = []\n",
    "for c in cinj:\n",
    "    mixmat = np.zeros([n,n])\n",
    "    mixmat += 0.00001\n",
    "    betamat = []\n",
    "    for istar in range(n):\n",
    "        for jstar in range(n):\n",
    "            for i in range(n):\n",
    "                for j in range(n):\n",
    "                    dist = np.abs(np.sqrt((i-istar)**2+(j-jstar)**2)) #scaled by a bit\n",
    "                    if dist==0:\n",
    "                        dist = 1.\n",
    "                    mixmat[i,j] = 1./dist**c\n",
    "            mixmat[istar,jstar] = 0.  \n",
    "    rate = sum(sum(mixmat*popmat))/(n*n)\n",
    "    draws = np.random.poisson(rate,size=200)\n",
    "    rates2.append([c,rate,np.mean(draws)])\n",
    "rates2 = np.array(rates2)"
   ]
  },
  {
   "cell_type": "code",
   "execution_count": 244,
   "metadata": {
    "collapsed": false
   },
   "outputs": [
    {
     "data": {
      "text/plain": [
       "[<matplotlib.lines.Line2D at 0x118ded210>]"
      ]
     },
     "execution_count": 244,
     "metadata": {},
     "output_type": "execute_result"
    },
    {
     "data": {
      "image/png": "[encoded data removed]",
      "text/plain": [
       "<Figure size 432x288 with 1 Axes>"
      ]
     },
     "metadata": {},
     "output_type": "display_data"
    }
   ],
   "source": [
    "plt.plot(rates0[:,0],(rates0[:,1]))\n",
    "plt.plot(rates1[:,0],(rates1[:,1]))\n",
    "plt.plot(rates2[:,0],(rates2[:,1]))"
   ]
  },
  {
   "cell_type": "code",
   "execution_count": 246,
   "metadata": {
    "collapsed": false
   },
   "outputs": [
    {
     "name": "stdout",
     "output_type": "stream",
     "text": [
      "1.5\n"
     ]
    }
   ],
   "source": [
    "istar = 10\n",
    "jstar = 10\n",
    "i = 10\n",
    "j = 9\n",
    "dist = np.abs(np.sqrt((i-istar)**2+(j-jstar)**2))+0.5 #scaled by a bit\n",
    "print dist"
   ]
  },
  {
   "cell_type": "code",
   "execution_count": null,
   "metadata": {
    "collapsed": true
   },
   "outputs": [],
   "source": []
  }
 ],
 "metadata": {
  "kernelspec": {
   "display_name": "Python 2",
   "language": "python",
   "name": "python2"
  },
  "language_info": {
   "codemirror_mode": {
    "name": "ipython",
    "version": 2
   },
   "file_extension": ".py",
   "mimetype": "text/x-python",
   "name": "python",
   "nbconvert_exporter": "python",
   "pygments_lexer": "ipython2",
   "version": "2.7.12"
  }
 },
 "nbformat": 4,
 "nbformat_minor": 0
}
