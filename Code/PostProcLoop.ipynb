{
 "cells": [
  {
   "cell_type": "code",
   "execution_count": 1,
   "metadata": {
    "collapsed": true
   },
   "outputs": [],
   "source": [
    "#Read in all of the relevant libraries\n",
    "import numpy as np\n",
    "import pandas as pd  #Pandas is a nice package for data reading/selection\n",
    "import math\n",
    "import scipy as sp\n",
    "import matplotlib.pyplot as plt\n",
    "import ellipses as el\n",
    "\n",
    "from IPython.display import display\n",
    "import sys\n",
    "import pickle\n",
    "import seaborn\n",
    "seaborn.set_style('ticks')\n",
    "%matplotlib inline\n",
    "from matplotlib import rc\n",
    "rc('font',**{'family':'sans-serif','sans-serif':['Helvetica']})\n",
    "## for Palatino and other serif fonts use:\n",
    "#rc('font',**{'family':'serif','serif':['Palatino']})\n",
    "rc('text', usetex=True)"
   ]
  },
  {
   "cell_type": "markdown",
   "metadata": {},
   "source": [
    "This notebook is for postprocessing the large numbers of simulations we run with the metapopulations code. It takes a list of file names, reads in those simulations, then can calculate various quantities from those simulations to generate output figures. "
   ]
  },
  {
   "cell_type": "code",
   "execution_count": 2,
   "metadata": {
    "collapsed": true
   },
   "outputs": [],
   "source": [
    "def cart2pol(x, y):\n",
    "    rho = np.sqrt(x**2 + y**2)\n",
    "    phi = np.arctan2(y, x)\n",
    "    return(rho, phi)\n",
    "\n",
    "def pol2cart(rho, phi):\n",
    "    x = rho * np.cos(phi)\n",
    "    y = rho * np.sin(phi)\n",
    "    return(x, y)"
   ]
  },
  {
   "cell_type": "code",
   "execution_count": 90,
   "metadata": {
    "collapsed": false
   },
   "outputs": [],
   "source": [
    "#Take a list of files to generate an output for that list. Will be nxm long, where n and m are the number of sims\n",
    "#for each of the parameters you've looped over (need to tell it n and m)You'll need to set up the filenames so that \n",
    "#they actually go in the order you want. \n",
    "#to make filelist: ls -1 *.csv | sort -t'_' -n -k2 > filelist.txt\n",
    "filenames = pd.read_csv('../Sims/test2/filelist.txt',delim_whitespace=True,header=None)\n",
    "n = 5  #points along first parameter\n",
    "m = 5  #points along second parameter"
   ]
  },
  {
   "cell_type": "code",
   "execution_count": 91,
   "metadata": {
    "collapsed": false
   },
   "outputs": [
    {
     "name": "stdout",
     "output_type": "stream",
     "text": [
      "['cases_0_vaxvar0.2_popvar0.7_pop5000.0_0.csv'\n",
      " 'cases_1_vaxvar0.2_popvar0.75_pop5000.0_0.csv'\n",
      " 'cases_2_vaxvar0.2_popvar0.8_pop5000.0_0.csv'\n",
      " 'cases_3_vaxvar0.2_popvar0.85_pop5000.0_0.csv'\n",
      " 'cases_4_vaxvar0.2_popvar0.9_pop5000.0_0.csv'\n",
      " 'cases_5_vaxvar0.2_popvar0.7_pop28750.0_0.csv'\n",
      " 'cases_6_vaxvar0.2_popvar0.75_pop28750.0_0.csv'\n",
      " 'cases_7_vaxvar0.2_popvar0.8_pop28750.0_0.csv'\n",
      " 'cases_8_vaxvar0.2_popvar0.85_pop28750.0_0.csv'\n",
      " 'cases_9_vaxvar0.2_popvar0.9_pop28750.0_0.csv'\n",
      " 'cases_10_vaxvar0.2_popvar0.7_pop52500.0_0.csv'\n",
      " 'cases_11_vaxvar0.2_popvar0.75_pop52500.0_0.csv'\n",
      " 'cases_12_vaxvar0.2_popvar0.8_pop52500.0_0.csv'\n",
      " 'cases_13_vaxvar0.2_popvar0.85_pop52500.0_0.csv'\n",
      " 'cases_14_vaxvar0.2_popvar0.9_pop52500.0_0.csv'\n",
      " 'cases_15_vaxvar0.2_popvar0.7_pop76250.0_0.csv'\n",
      " 'cases_16_vaxvar0.2_popvar0.75_pop76250.0_0.csv'\n",
      " 'cases_17_vaxvar0.2_popvar0.8_pop76250.0_0.csv'\n",
      " 'cases_18_vaxvar0.2_popvar0.85_pop76250.0_0.csv'\n",
      " 'cases_19_vaxvar0.2_popvar0.9_pop76250.0_0.csv'\n",
      " 'cases_20_vaxvar0.2_popvar0.7_pop100000.0_0.csv'\n",
      " 'cases_21_vaxvar0.2_popvar0.75_pop100000.0_0.csv'\n",
      " 'cases_22_vaxvar0.2_popvar0.8_pop100000.0_0.csv'\n",
      " 'cases_23_vaxvar0.2_popvar0.85_pop100000.0_0.csv'\n",
      " 'cases_24_vaxvar0.2_popvar0.9_pop100000.0_0.csv']\n"
     ]
    }
   ],
   "source": [
    "#Getting the file names in a workable format\n",
    "filemat = filenames.values\n",
    "filemat = filemat.flatten()\n",
    "npoint = len(filemat)/4\n",
    "filemat = filemat.reshape([npoint,4])\n",
    "print filemat[0:n*m,0]"
   ]
  },
  {
   "cell_type": "code",
   "execution_count": 92,
   "metadata": {
    "collapsed": false
   },
   "outputs": [],
   "source": [
    "#'toplot' is the variable that you'll be calculating in order to generate a color map. \n",
    "# options: nigh, Ipercent, and ellipse\n",
    "toplot = 'Nhigh'  \n",
    "#set up a matrix to hold the values of this variable:\n",
    "plotmat = np.zeros([n,m])"
   ]
  },
  {
   "cell_type": "code",
   "execution_count": 93,
   "metadata": {
    "collapsed": false
   },
   "outputs": [
    {
     "data": {
      "text/plain": [
       "'\\nfiles_subset = []\\nfor i in range(n):\\n    files_subset.append(filemat[:,n*m*i:n*m*(i+1)])\\n'"
      ]
     },
     "execution_count": 93,
     "metadata": {},
     "output_type": "execute_result"
    }
   ],
   "source": [
    "#Select the subset of files you're going to work with (mostly for testing purposes):\n",
    "'''\n",
    "files_subset = []\n",
    "for i in range(n):\n",
    "    files_subset.append(filemat[:,n*m*i:n*m*(i+1)])\n",
    "'''\n",
    "#files_subset now contains nxm (x4, since there are I,S,R,and V files for each sim) \n",
    "#files for each of 10 different vaccination variance levels. If you want to make a grid looping over vacc. variance,\n",
    "#you'll have to change the code quite a bit."
   ]
  },
  {
   "cell_type": "code",
   "execution_count": 94,
   "metadata": {
    "collapsed": false
   },
   "outputs": [
    {
     "name": "stdout",
     "output_type": "stream",
     "text": [
      "(25, 4)\n",
      "cases_75_vaxvar0.5_popvar0.7_pop5000.0_0.csv\n"
     ]
    }
   ],
   "source": [
    "#Select all files with the same vacc. variance.\n",
    "#files = files_subset[4]\n",
    "choose = 4 #which vacc. variance do you want to look at? Starts at 1, not 0.\n",
    "files = filemat[n*m*(choose-1):n*m*choose,:]\n",
    "print np.shape(files)\n",
    "print files[0,0]"
   ]
  },
  {
   "cell_type": "code",
   "execution_count": 95,
   "metadata": {
    "collapsed": false
   },
   "outputs": [
    {
     "name": "stdout",
     "output_type": "stream",
     "text": [
      "0\n",
      "cases_75_vaxvar0.5_popvar0.7_pop5000.0_0.csv\n",
      "cases_76_vaxvar0.5_popvar0.75_pop5000.0_0.csv\n",
      "cases_77_vaxvar0.5_popvar0.8_pop5000.0_0.csv\n",
      "cases_78_vaxvar0.5_popvar0.85_pop5000.0_0.csv\n",
      "cases_79_vaxvar0.5_popvar0.9_pop5000.0_0.csv\n",
      "1\n",
      "cases_80_vaxvar0.5_popvar0.7_pop28750.0_0.csv\n",
      "cases_81_vaxvar0.5_popvar0.75_pop28750.0_0.csv\n",
      "cases_82_vaxvar0.5_popvar0.8_pop28750.0_0.csv\n",
      "cases_83_vaxvar0.5_popvar0.85_pop28750.0_0.csv\n",
      "cases_84_vaxvar0.5_popvar0.9_pop28750.0_0.csv\n",
      "2\n",
      "cases_85_vaxvar0.5_popvar0.7_pop52500.0_0.csv\n",
      "cases_86_vaxvar0.5_popvar0.75_pop52500.0_0.csv\n",
      "cases_87_vaxvar0.5_popvar0.8_pop52500.0_0.csv\n",
      "cases_88_vaxvar0.5_popvar0.85_pop52500.0_0.csv\n",
      "cases_89_vaxvar0.5_popvar0.9_pop52500.0_0.csv\n",
      "3\n",
      "cases_90_vaxvar0.5_popvar0.7_pop76250.0_0.csv\n",
      "cases_91_vaxvar0.5_popvar0.75_pop76250.0_0.csv\n",
      "cases_92_vaxvar0.5_popvar0.8_pop76250.0_0.csv\n",
      "cases_93_vaxvar0.5_popvar0.85_pop76250.0_0.csv\n",
      "cases_94_vaxvar0.5_popvar0.9_pop76250.0_0.csv\n",
      "4\n",
      "cases_95_vaxvar0.5_popvar0.7_pop100000.0_0.csv\n",
      "cases_96_vaxvar0.5_popvar0.75_pop100000.0_0.csv\n",
      "cases_97_vaxvar0.5_popvar0.8_pop100000.0_0.csv\n",
      "cases_98_vaxvar0.5_popvar0.85_pop100000.0_0.csv\n",
      "cases_99_vaxvar0.5_popvar0.9_pop100000.0_0.csv\n"
     ]
    }
   ],
   "source": [
    "#This loop reads through all of the files and calculates the output variable, storing it in the plotmat matrix.\n",
    "for i in range(n):\n",
    "    print i\n",
    "    for j in range(m):\n",
    "        #Read in data file\n",
    "        filenum = i*n+j%m\n",
    "        print files[filenum,0]\n",
    "        \n",
    "\n",
    "        Ifile = pd.read_csv('../Sims/test2/'+files[filenum,0], delim_whitespace=True,header=0)\n",
    "        Sfile = pd.read_csv('../Sims/test2/'+files[filenum,1], delim_whitespace=True,header=0)\n",
    "        Rfile = pd.read_csv('../Sims/test2/'+files[filenum,2], delim_whitespace=True, header=0)\n",
    "        Vfile = pd.read_csv('../Sims/test2/'+files[filenum,3], delim_whitespace=True,header=0)\n",
    "        \n",
    "        Idata_all = Ifile.values\n",
    "        Sdata_all = Sfile.values\n",
    "        Rdata_all = Rfile.values\n",
    "        Vdata_all = Vfile.values\n",
    "                \n",
    "        Idata_all = Idata_all.astype(float)\n",
    "        Sdata_all = Sdata_all.astype(float)\n",
    "        Rdata_all = Rdata_all.astype(float)\n",
    "        Vdata_all = Vdata_all.astype(float)\n",
    "        \n",
    "        tsteps = len(Idata_all[:,0])\n",
    "        npatch = len(Idata_all[0,:])\n",
    "        \n",
    "        burnin = 0.8*len(Idata_all)\n",
    "        burnin = int(burnin)\n",
    "        \n",
    "        Idata = Idata_all[burnin:,:]\n",
    "        Sdata = Sdata_all[burnin:,:]\n",
    "        Rdata = Rdata_all[burnin:,:]\n",
    "        Vdata = Vdata_all[burnin:,:]\n",
    "        \n",
    "        '''print j\n",
    "        if (j-5)%10==0:\n",
    "            print files[0,filenum]\n",
    "            plt.plot(Idata)\n",
    "            '''\n",
    "        \n",
    "        #Outbreaks are identified as any string of more than one time-step during which I>0 in a cell.\n",
    "        if toplot=='Ipercent':\n",
    "            outsize = np.zeros(npatch)\n",
    "            k = 1\n",
    "            while k<(tsteps-burnin):\n",
    "                for r in range(npatch):\n",
    "                    if Idata[k,r] > 0.:\n",
    "                        if Idata[k-1,r] > 0.:\n",
    "                            outsize[r] += Idata[k,r]\n",
    "                k += 1\n",
    "\n",
    "            totinf = sum(outsize)\n",
    "            totpop = Idata+Sdata+Rdata+Vdata\n",
    "            totpop = sum(totpop)\n",
    "            fracinf = outsize/totpop\n",
    "            print np.shape(outsize)\n",
    "\n",
    "            plotmat[i,j] = max(fracinf)\n",
    "\n",
    "        if toplot=='nhigh':\n",
    "            nhigh = 0\n",
    "            k = 0\n",
    "            while k<(tsteps-burnin):\n",
    "                Ifrac = Idata[k,:]/(Idata[k,:]+Sdata[k,:]+Rdata[k,:]+Vdata[k,:])\n",
    "                mask = Ifrac>=0.0\n",
    "                Ihigh = Ifrac[mask]\n",
    "                x = Ihigh*1.\n",
    "                nhigh += len(x)\n",
    "                k+=1\n",
    "            plotmat[i,j] = nhigh\n",
    "            \n",
    "        if toplot=='ellipse':\n",
    "            nobs = len(Idata)      #How many 'observations'? (i.e. timesteps)\n",
    "            dates = np.linspace(0,nobs-1,nobs) \n",
    "            dates = (dates)%24     #A year is 24 timesteps, in this code. For whatever reason.\n",
    "            theta = 2.*np.pi*((dates+1)/24.)\n",
    "            \n",
    "            eccen = []\n",
    "            for k in range(400):\n",
    "                thetafit = theta[:]\n",
    "                Ifit = Idata[:,k]\n",
    "                Ifit += 1.\n",
    "                cartcoords = pol2cart(Ifit,thetafit)\n",
    "                data = cartcoords\n",
    "\n",
    "                lsqe = el.LSqEllipse()\n",
    "                lsqe.fit(data)\n",
    "                center, width, height, phi = lsqe.parameters()\n",
    "                if width>height:\n",
    "                    eccen.append(np.sqrt(1.-(height/width)**2.))\n",
    "                if height>=width:\n",
    "                    eccen.append(np.sqrt(1.-(width/height)**2.))\n",
    "            plotmat[i,j] = np.mean(eccen)\n",
    "    "
   ]
  },
  {
   "cell_type": "code",
   "execution_count": 97,
   "metadata": {
    "collapsed": false
   },
   "outputs": [
    {
     "data": {
      "text/plain": [
       "'\\nholdcol0 = plotmat[:,0].copy()\\nholdcol1 = plotmat[:,5].copy()\\n\\nmatrix[:,0] = holdcol1               #the fifth column should be the first column\\nmatrix[:,5:9] = plotmat[:,6:].copy() #shift the last few columns left\\nmatrix[:,-1] = holdcol0              #last column replaced with first\\n\\nholdrow0 = matrix[0,:].copy()\\nholdrow1 = matrix[1,:].copy()\\nmatrix[0,:] = holdrow1\\nmatrix[1,:] = holdrow0\\n\\nholdcol0 = plotmat[:,0].copy()\\nmatrix = plotmat.copy()\\nmatrix[:,0:-1] = plotmat[:,1:].copy()\\nmatrix[:,-1] = holdcol0\\n\\n#matrix[0,:] = holdrow1\\n#matrix[1,:] = holdrow0\\n'"
      ]
     },
     "execution_count": 97,
     "metadata": {},
     "output_type": "execute_result"
    }
   ],
   "source": [
    "#Fix the ordering of columns.  i corresponds to popvar, j to popsize. This works for a 10x10 plot\n",
    "#This is a gross kludge and should be fixed in the above loop instead.\n",
    "\n",
    "#This should no longer be necessary - the naming conventions have been changed s.t. the files should be in the\n",
    "#order we want in the filelist.\n",
    "\n",
    "matrix = plotmat.copy();\n",
    "'''\n",
    "holdcol0 = plotmat[:,0].copy()\n",
    "holdcol1 = plotmat[:,5].copy()\n",
    "\n",
    "matrix[:,0] = holdcol1               #the fifth column should be the first column\n",
    "matrix[:,5:9] = plotmat[:,6:].copy() #shift the last few columns left\n",
    "matrix[:,-1] = holdcol0              #last column replaced with first\n",
    "\n",
    "holdrow0 = matrix[0,:].copy()\n",
    "holdrow1 = matrix[1,:].copy()\n",
    "matrix[0,:] = holdrow1\n",
    "matrix[1,:] = holdrow0\n",
    "\n",
    "holdcol0 = plotmat[:,0].copy()\n",
    "matrix = plotmat.copy()\n",
    "matrix[:,0:-1] = plotmat[:,1:].copy()\n",
    "matrix[:,-1] = holdcol0\n",
    "\n",
    "#matrix[0,:] = holdrow1\n",
    "#matrix[1,:] = holdrow0\n",
    "'''"
   ]
  },
  {
   "cell_type": "code",
   "execution_count": 98,
   "metadata": {
    "collapsed": false
   },
   "outputs": [
    {
     "data": {
      "image/png": "[encoded data removed]",
      "text/plain": [
       "<Figure size 864x864 with 2 Axes>"
      ]
     },
     "metadata": {},
     "output_type": "display_data"
    }
   ],
   "source": [
    "#print out a heatmap of the output variable.\n",
    "fig, ax = plt.subplots(figsize=(12,12))\n",
    "cax = ax.imshow((matrix), interpolation='nearest', cmap='plasma',vmin=0.2,vmax=0.7)\n",
    "ax.set_xticks(np.arange(0,n,1))\n",
    "ax.set_yticks(np.arange(0,m,1))\n",
    "#ax.set_xticklabels(['50k','56k','61k','67k','72k','78k','83k','89k','94k','100k'],fontsize=12)\n",
    "#ax.set_yticklabels([1.0,3.1,5.2,7.3,9.4,11.5,13.7,15.8,17.9,20.],fontsize=12)\n",
    "ax.set_xlabel('Population Size',fontsize=15)\n",
    "ax.set_ylabel('Pop. Variance (\\%)',fontsize=15)\n",
    "\n",
    "# Add colorbar, make sure to specify tick locations to match desired ticklabels\n",
    "cbar = fig.colorbar(cax)\n",
    "#cbar.ax.set_yticklabels(['< -1', '0', '> 1'])  # vertically oriented colorbar\n",
    "fig.tight_layout()\n",
    "\n",
    "#plt.savefig('../Sims/alpha10c0.1/test.pdf')"
   ]
  },
  {
   "cell_type": "code",
   "execution_count": 100,
   "metadata": {
    "collapsed": false
   },
   "outputs": [],
   "source": [
    "#If you just want to plot the timeseries from a single file:\n",
    "testfile1= pd.read_csv('cases_payload_0.csv',delim_whitespace=True,header=0)\n",
    "testvals1 = testfile1.values.astype(float)"
   ]
  },
  {
   "cell_type": "code",
   "execution_count": 102,
   "metadata": {
    "collapsed": false
   },
   "outputs": [
    {
     "data": {
      "image/png": "[encoded data removed]",
      "text/plain": [
       "<Figure size 432x288 with 1 Axes>"
      ]
     },
     "metadata": {},
     "output_type": "display_data"
    }
   ],
   "source": [
    "burnin = 9500\n",
    "plt.plot(testvals1[burnin:,44]);\n",
    "plt.plot(testvals1[burnin:,80]);\n",
    "plt.plot(testvals1[burnin:,73]);"
   ]
  },
  {
   "cell_type": "code",
   "execution_count": null,
   "metadata": {
    "collapsed": true
   },
   "outputs": [],
   "source": []
  }
 ],
 "metadata": {
  "kernelspec": {
   "display_name": "Python 2",
   "language": "python",
   "name": "python2"
  },
  "language_info": {
   "codemirror_mode": {
    "name": "ipython",
    "version": 2
   },
   "file_extension": ".py",
   "mimetype": "text/x-python",
   "name": "python",
   "nbconvert_exporter": "python",
   "pygments_lexer": "ipython2",
   "version": "2.7.12"
  }
 },
 "nbformat": 4,
 "nbformat_minor": 0
}
