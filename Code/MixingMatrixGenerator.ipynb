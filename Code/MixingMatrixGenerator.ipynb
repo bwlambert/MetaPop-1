{
 "cells": [
  {
   "cell_type": "code",
   "execution_count": 1,
   "metadata": {
    "collapsed": true
   },
   "outputs": [],
   "source": [
    "import numpy as np\n",
    "import pandas as pd\n",
    "import math\n",
    "import scipy as sp\n",
    "import matplotlib.pyplot as plt\n",
    "from IPython.display import display\n",
    "import sys\n",
    "import pickle\n",
    "import seaborn\n",
    "seaborn.set_style('ticks')\n",
    "%matplotlib inline\n",
    "from matplotlib import rc\n",
    "rc('font',**{'family':'sans-serif','sans-serif':['Helvetica']})\n",
    "## for Palatino and other serif fonts use:\n",
    "#rc('font',**{'family':'serif','serif':['Palatino']})\n",
    "rc('text', usetex=True)"
   ]
  },
  {
   "cell_type": "markdown",
   "metadata": {},
   "source": [
    "####Generate a mixing matrix for use in metapopulation code###\n",
    "* Size will be npatchxnpatch\n",
    "* Dispersion kernel defined by:  \n",
    "$ p(d) = \\frac{1}{N} \\exp\\left(-(d/\\alpha)^c\\right)$  \n",
    "$\\alpha$ sets the length scale of dispersion, and $c$ adjusts the 'tail fatness.' Higher $c$ means fatter (skinnier??) tails. $d$ is the distance between the points.\n",
    "* Normalization constant is:  \n",
    "$N = \\frac{2\\pi \\alpha^2 \\Gamma(2/c)}{c}$\n"
   ]
  },
  {
   "cell_type": "code",
   "execution_count": 2,
   "metadata": {
    "collapsed": true
   },
   "outputs": [],
   "source": [
    "#Set constants for the matrix you want.\n",
    "n = 20         #size of an edge (even numbers make the movie easier)\n",
    "npatch = n*n   #npatch is nxn - the matrix is npatchxnpatch\n",
    "alpha = 1.     #length scale\n",
    "cinj = 0.5        #tail weight (lower c -> higher tail weight)"
   ]
  },
  {
   "cell_type": "code",
   "execution_count": 3,
   "metadata": {
    "collapsed": false
   },
   "outputs": [],
   "source": [
    "def distance(x1,x2,y1,y2):\n",
    "    return np.sqrt((x1-x2)**2+(y1-y2)**2)\n",
    "def kernel(d,a,c):\n",
    "    N = 2.*np.pi*a*sp.special.gamma(1./c)/c\n",
    "    pofd = np.exp(-((d/a)**c))\n",
    "    return pofd/N"
   ]
  },
  {
   "cell_type": "code",
   "execution_count": 4,
   "metadata": {
    "collapsed": false
   },
   "outputs": [
    {
     "name": "stderr",
     "output_type": "stream",
     "text": [
      "/Users/laurasampson/anaconda/lib/python2.7/site-packages/matplotlib/font_manager.py:1328: UserWarning: findfont: Font family [u'sans-serif'] not found. Falling back to DejaVu Sans\n",
      "  (prop.get_family(), self.defaultFamily[fontext]))\n"
     ]
    },
    {
     "data": {
      "image/png": "[encoded data removed]",
      "text/plain": [
       "<Figure size 432x288 with 1 Axes>"
      ]
     },
     "metadata": {},
     "output_type": "display_data"
    }
   ],
   "source": [
    "dist = np.linspace(0.05,35,100) #For normalization purposes, should neighboring cells be 'zero'? (Yes.)\n",
    "dx = dist[1]-dist[0]\n",
    "\n",
    "ctest = [0.01,0.1,1.0,1.5]\n",
    "alpha = 10.\n",
    "for cinj in ctest:\n",
    "    k = kernel(dist,alpha,cinj)\n",
    "    k /= sum(k*dx)   #Normalize\n",
    "    plt.plot(dist,k)"
   ]
  },
  {
   "cell_type": "code",
   "execution_count": 6,
   "metadata": {
    "collapsed": false
   },
   "outputs": [
    {
     "name": "stdout",
     "output_type": "stream",
     "text": [
      "[[  0.00000000e+000   0.00000000e+000   0.00000000e+000   0.00000000e+000\n",
      "    0.00000000e+000   0.00000000e+000   0.00000000e+000   0.00000000e+000\n",
      "    0.00000000e+000   0.00000000e+000   0.00000000e+000   0.00000000e+000\n",
      "    1.03161990e-305   1.99345255e-258   3.16906735e-223   2.01961367e-197\n",
      "    4.43358160e-179   7.51544164e-167   7.57992018e-160   1.44563290e-157]\n",
      " [  0.00000000e+000   0.00000000e+000   0.00000000e+000   0.00000000e+000\n",
      "    0.00000000e+000   0.00000000e+000   0.00000000e+000   0.00000000e+000\n",
      "    0.00000000e+000   0.00000000e+000   9.26519958e-287   2.56746682e-229\n",
      "    9.21589946e-187   2.59275888e-155   3.23483216e-132   1.73023289e-115\n",
      "    1.02011059e-103   6.23538100e-096   1.69792036e-091   4.67710162e-090]\n",
      " [  0.00000000e+000   0.00000000e+000   0.00000000e+000   0.00000000e+000\n",
      "    0.00000000e+000   0.00000000e+000   0.00000000e+000   0.00000000e+000\n",
      "    1.03161990e-305   2.05801721e-232   4.43358160e-179   2.89828293e-140\n",
      "    5.10542784e-112   1.69792036e-091   1.16238400e-076   4.57711447e-066\n",
      "    1.06559206e-058   7.17104292e-054   3.87249596e-051   2.96685406e-050]\n",
      " [  0.00000000e+000   0.00000000e+000   0.00000000e+000   0.00000000e+000\n",
      "    0.00000000e+000   0.00000000e+000   0.00000000e+000   9.00855352e-269\n",
      "    2.01961367e-197   1.46693026e-146   2.57342678e-110   1.75296192e-084\n",
      "    4.57711447e-066   6.02257684e-053   1.23223804e-043   4.27881127e-037\n",
      "    1.30445667e-032   1.05097648e-029   4.50535361e-028   1.51311241e-027]\n",
      " [  0.00000000e+000   0.00000000e+000   0.00000000e+000   0.00000000e+000\n",
      "    0.00000000e+000   0.00000000e+000   2.08221911e-248   1.41051427e-176\n",
      "    1.96571576e-126   1.69792036e-091   3.52790667e-067   2.96685406e-050\n",
      "    1.80275341e-038   2.87914992e-030   1.43398909e-024   1.20476812e-020\n",
      "    5.32537054e-018   2.61850135e-016   2.28730362e-015   4.58468398e-015]\n",
      " [  0.00000000e+000   0.00000000e+000   0.00000000e+000   0.00000000e+000\n",
      "    0.00000000e+000   6.61538884e-242   7.51544164e-167   1.73023289e-115\n",
      "    1.71208632e-080   1.00183449e-056   1.28976885e-040   1.05097648e-029\n",
      "    2.58835834e-022   2.64239673e-017   6.49582870e-014   1.24131698e-011\n",
      "    3.98705674e-010   3.53667303e-009   1.17502217e-008   1.72330135e-008]\n",
      " [  0.00000000e+000   0.00000000e+000   0.00000000e+000   0.00000000e+000\n",
      "    2.08221911e-248   7.51544164e-167   5.10542784e-112   2.03403612e-075\n",
      "    3.87249596e-051   4.11751465e-035   1.43398909e-024   1.19507430e-017\n",
      "    4.15880505e-013   3.98705674e-010   3.61502044e-008   6.88980549e-007\n",
      "    4.60143326e-006   1.48378059e-005   2.79983526e-005   3.42328058e-005]\n",
      " [  0.00000000e+000   0.00000000e+000   0.00000000e+000   9.00855352e-269\n",
      "    1.41051427e-176   1.73023289e-115   2.03403612e-075   2.20596121e-049\n",
      "    1.30445667e-032   6.93636935e-022   4.58468398e-015   9.58653038e-011\n",
      "    5.17209684e-008   2.76238120e-006   3.42328058e-005   1.67858481e-004\n",
      "    4.53175553e-004   8.23333163e-004   1.13163041e-003   1.25034949e-003]\n",
      " [  0.00000000e+000   0.00000000e+000   1.03161990e-305   2.01961367e-197\n",
      "    1.96571576e-126   1.71208632e-080   3.87249596e-051   1.30445667e-032\n",
      "    4.73121045e-021   6.49582870e-014   1.51904906e-009   6.88980549e-007\n",
      "    2.79983526e-005   2.63145889e-004   1.02103490e-003   2.31951128e-003\n",
      "    3.79780221e-003   5.06049370e-003   5.87594750e-003   6.15438946e-003]\n",
      " [  0.00000000e+000   0.00000000e+000   2.05801721e-232   1.46693026e-146\n",
      "    1.69792036e-091   1.00183449e-056   4.11751465e-035   6.93636935e-022\n",
      "    6.49582870e-014   3.53667303e-009   2.12020094e-006   8.67737650e-005\n",
      "    7.35716927e-004   2.50663441e-003   5.06049370e-003   7.57229392e-003\n",
      "    9.53533384e-003   1.08449780e-002   1.15730049e-002   1.18045744e-002]\n",
      " [  0.00000000e+000   9.26519958e-287   4.43358160e-179   2.57342678e-110\n",
      "    3.52790667e-067   1.28976885e-040   1.43398909e-024   4.58468398e-015\n",
      "    1.51904906e-009   2.12020094e-006   1.21770438e-004   1.13163041e-003\n",
      "    3.79780221e-003   7.28706602e-003   1.03341358e-002   1.24635708e-002\n",
      "    1.37813977e-002   1.45327705e-002   1.49113370e-002   1.50261404e-002]\n",
      " [  0.00000000e+000   2.56746682e-229   2.89828293e-140   1.75296192e-084\n",
      "    2.96685406e-050   1.05097648e-029   1.19507430e-017   9.58653038e-011\n",
      "    6.88980549e-007   8.67737650e-005   1.13163041e-003   4.28557698e-003\n",
      "    8.42462050e-003   1.18045744e-002   1.39441313e-002   1.51354687e-002\n",
      "    1.57597532e-002   1.60748023e-002   1.62209358e-002   1.62634138e-002]\n",
      " [  1.03161990e-305   9.21589946e-187   5.10542784e-112   4.57711447e-066\n",
      "    1.80275341e-038   2.58835834e-022   4.15880505e-013   5.17209684e-008\n",
      "    2.79983526e-005   7.35716927e-004   3.79780221e-003   8.42462050e-003\n",
      "    1.22499918e-002   1.45327705e-002   1.56846057e-002   1.62209358e-002\n",
      "    1.64628006e-002   1.65704806e-002   1.66159543e-002   1.66285142e-002]\n",
      " [  1.99345255e-258   2.59275888e-155   1.69792036e-091   6.02257684e-053\n",
      "    2.87914992e-030   2.64239673e-017   3.98705674e-010   2.76238120e-006\n",
      "    2.63145889e-004   2.50663441e-003   7.28706602e-003   1.18045744e-002\n",
      "    1.45327705e-002   1.58306428e-002   1.63741772e-002   1.65870298e-002\n",
      "    1.66680345e-002   1.66987514e-002   1.67101240e-002   1.67130357e-002]\n",
      " [  3.16906735e-223   3.23483216e-132   1.16238400e-076   1.23223804e-043\n",
      "    1.43398909e-024   6.49582870e-014   3.61502044e-008   3.42328058e-005\n",
      "    1.02103490e-003   5.06049370e-003   1.03341358e-002   1.39441313e-002\n",
      "    1.56846057e-002   1.63741772e-002   1.66159543e-002   1.66939271e-002\n",
      "    1.67177864e-002   1.67249668e-002   1.67271250e-002   1.67276109e-002]\n",
      " [  2.01961367e-197   1.73023289e-115   4.57711447e-066   4.27881127e-037\n",
      "    1.20476812e-020   1.24131698e-011   6.88980549e-007   1.67858481e-004\n",
      "    2.31951128e-003   7.57229392e-003   1.24635708e-002   1.51354687e-002\n",
      "    1.62209358e-002   1.65870298e-002   1.66939271e-002   1.67213427e-002\n",
      "    1.67276109e-002   1.67289390e-002   1.67292174e-002   1.67292663e-002]\n",
      " [  4.43358160e-179   1.02011059e-103   1.06559206e-058   1.30445667e-032\n",
      "    5.32537054e-018   3.98705674e-010   4.60143326e-006   4.53175553e-004\n",
      "    3.79780221e-003   9.53533384e-003   1.37813977e-002   1.57597532e-002\n",
      "    1.64628006e-002   1.66680345e-002   1.67177864e-002   1.67276109e-002\n",
      "    1.67291500e-002   1.67293409e-002   1.67293613e-002   1.67293633e-002]\n",
      " [  7.51544164e-167   6.23538100e-096   7.17104292e-054   1.05097648e-029\n",
      "    2.61850135e-016   3.53667303e-009   1.48378059e-005   8.23333163e-004\n",
      "    5.06049370e-003   1.08449780e-002   1.45327705e-002   1.60748023e-002\n",
      "    1.65704806e-002   1.66987514e-002   1.67249668e-002   1.67289390e-002\n",
      "    1.67293409e-002   1.67293643e-002   1.67293650e-002   1.67293650e-002]\n",
      " [  7.57992018e-160   1.69792036e-091   3.87249596e-051   4.50535361e-028\n",
      "    2.28730362e-015   1.17502217e-008   2.79983526e-005   1.13163041e-003\n",
      "    5.87594750e-003   1.15730049e-002   1.49113370e-002   1.62209358e-002\n",
      "    1.66159543e-002   1.67101240e-002   1.67271250e-002   1.67292174e-002\n",
      "    1.67293613e-002   1.67293650e-002   1.67293650e-002   1.67293650e-002]\n",
      " [  1.44563290e-157   4.67710162e-090   2.96685406e-050   1.51311241e-027\n",
      "    4.58468398e-015   1.72330135e-008   3.42328058e-005   1.25034949e-003\n",
      "    6.15438946e-003   1.18045744e-002   1.50261404e-002   1.62634138e-002\n",
      "    1.66285142e-002   1.67130357e-002   1.67276109e-002   1.67292663e-002\n",
      "    1.67293633e-002   1.67293650e-002   1.67293650e-002   1.67293650e-002]]\n"
     ]
    }
   ],
   "source": [
    "#For a given alpha and c, you want to output an npatchxnpatch matrix with k giving the values of each cell. \n",
    "#You should only have to calculate k once - it just gets 'shifted' for each new row. The trick is to calculate \n",
    "#the distance between each point in the row. If i=j, this kernel should be the non-mixed value. Say 0.1, whatever. It's\n",
    "#going to get scaled anyway.\n",
    "cinj = 10.0\n",
    "alpha = 10.\n",
    "mixmat = np.zeros([n,n])\n",
    "mixmat += 0.00001\n",
    "betamat = []\n",
    "for istar in range(n):\n",
    "    for jstar in range(n):\n",
    "        for i in range(n):\n",
    "            for j in range(n):\n",
    "                dist = np.abs(np.sqrt((i-istar)**2+(j-jstar)**2)-1.) #scaled so nearest (non-diagonal) neighbors are zero distance.\n",
    "                if dist<=0:\n",
    "                    dist = 0.05\n",
    "                if (i==istar)&(j==jstar):\n",
    "                    dist = 0.05\n",
    "                k = kernel(dist,alpha,cinj)\n",
    "                mixmat[i,j] = k\n",
    "                \n",
    "                #To generate a diagonal mixing matrix:\n",
    "                '''\n",
    "                if i==j:\n",
    "                    mixmat[i,j] = 1.\n",
    "                else:\n",
    "                    mixmat[i,j] = 0.\n",
    "                '''\n",
    "        mixvec = mixmat.flatten()\n",
    "        if istar==19 and jstar==19:\n",
    "            print mixmat\n",
    "        betamat.append(mixvec)\n",
    "betamat = np.array(betamat)"
   ]
  },
  {
   "cell_type": "code",
   "execution_count": 33,
   "metadata": {
    "collapsed": false
   },
   "outputs": [
    {
     "name": "stdout",
     "output_type": "stream",
     "text": [
      "1.0\n"
     ]
    }
   ],
   "source": [
    "#Need to scale so that the population mixing isn't explicitly affecting R0. Set maximum eigenvalue to 1.0.\n",
    "R0 = 1.\n",
    "gamma = 1.                  #Number of timesteps to recovery. Our timesteps are two weeks long, so this is just one.\n",
    "maxeig = R0*gamma\n",
    "\n",
    "for i in range(n*n):\n",
    "    trial = betamat[i,:].copy()                       #mixing matrix associated with individual cell\n",
    "    trial = trial.reshape(n,n)\n",
    "    scale = np.real(np.max(np.linalg.eigvals(trial)))\n",
    "    betamat[i,:] *= 1./scale                          #Scale so the maximum eigenvalue *of each matrix* is 1.0\n",
    "\n",
    "trial = betamat[0,:].copy()                  \n",
    "trial = trial.reshape(n,n)\n",
    "print np.max(np.linalg.eigvals(trial))      #check the maximum eigenvalue is 1.0 (and real...)"
   ]
  },
  {
   "cell_type": "code",
   "execution_count": 34,
   "metadata": {
    "collapsed": false
   },
   "outputs": [
    {
     "data": {
      "text/plain": [
       "<matplotlib.image.AxesImage at 0x118fce210>"
      ]
     },
     "execution_count": 34,
     "metadata": {},
     "output_type": "execute_result"
    },
    {
     "data": {
      "image/png": "[encoded data removed]",
      "text/plain": [
       "<Figure size 864x864 with 1 Axes>"
      ]
     },
     "metadata": {},
     "output_type": "display_data"
    }
   ],
   "source": [
    "plt.figure(figsize=(12,12))\n",
    "plt.imshow(trial,cmap='viridis',interpolation='none')"
   ]
  },
  {
   "cell_type": "code",
   "execution_count": null,
   "metadata": {
    "collapsed": false
   },
   "outputs": [],
   "source": [
    "filename = 'mixingMatrices/alpha10c10.0.hpp'\n",
    "with open(filename,\"w\") as f:\n",
    "    f.write(\"static std::array<std::array<float, nptch>, nptch> sbetaMatrix = {{\\n\")\n",
    "    for row in betamat:\n",
    "        f.write(\"{{\")\n",
    "        for i in range(npatch-1):\n",
    "            f.write(str(row[i])+\",\")\n",
    "        f.write(str(row[npatch-1])+\"}},\\n\")\n",
    "    f.write(\"}};\")"
   ]
  },
  {
   "cell_type": "code",
   "execution_count": null,
   "metadata": {
    "collapsed": true
   },
   "outputs": [],
   "source": []
  }
 ],
 "metadata": {
  "kernelspec": {
   "display_name": "Python 2",
   "language": "python",
   "name": "python2"
  },
  "language_info": {
   "codemirror_mode": {
    "name": "ipython",
    "version": 2
   },
   "file_extension": ".py",
   "mimetype": "text/x-python",
   "name": "python",
   "nbconvert_exporter": "python",
   "pygments_lexer": "ipython2",
   "version": "2.7.12"
  }
 },
 "nbformat": 4,
 "nbformat_minor": 0
}
