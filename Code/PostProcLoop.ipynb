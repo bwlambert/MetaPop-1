{
 "cells": [
  {
   "cell_type": "code",
   "execution_count": 1,
   "metadata": {
    "collapsed": true
   },
   "outputs": [],
   "source": [
    "#Read in all of the relevant libraries\n",
    "import numpy as np\n",
    "import pandas as pd  #Pandas is a nice package for data reading/selection\n",
    "import math\n",
    "import scipy as sp\n",
    "import matplotlib.pyplot as plt\n",
    "from IPython.display import display\n",
    "import sys\n",
    "import pickle\n",
    "import seaborn\n",
    "seaborn.set_style('ticks')\n",
    "%matplotlib inline\n",
    "from matplotlib import rc\n",
    "rc('font',**{'family':'sans-serif','sans-serif':['Helvetica']})\n",
    "## for Palatino and other serif fonts use:\n",
    "#rc('font',**{'family':'serif','serif':['Palatino']})\n",
    "rc('text', usetex=True)"
   ]
  },
  {
   "cell_type": "markdown",
   "metadata": {},
   "source": [
    "This notebook is for postprocessing the large numbers of simulations we run with the metapopulations code. It takes a list of file names, reads in those simulations, then can calculate various quantities from those simulations to generate output figures. "
   ]
  },
  {
   "cell_type": "code",
   "execution_count": 2,
   "metadata": {
    "collapsed": false
   },
   "outputs": [],
   "source": [
    "#Take a list of files to generate an output for that list. Will be nxm long, where n and m are the number of sims\n",
    "#for each of the parameters you've looped over (need to tell it n and m)You'll need to set up the filenames so that \n",
    "#they actually go in the order you want. \n",
    "filenames = pd.read_csv('../Sims/alpha10c0.1/filelist.txt',delim_whitespace=True,header=None)\n",
    "n = 10  #points along first parameter\n",
    "m = 10  #points along second parameter"
   ]
  },
  {
   "cell_type": "code",
   "execution_count": 3,
   "metadata": {
    "collapsed": false
   },
   "outputs": [
    {
     "name": "stderr",
     "output_type": "stream",
     "text": [
      "/Users/laurasampson/anaconda/lib/python2.7/site-packages/ipykernel_launcher.py:2: FutureWarning: Method .as_matrix will be removed in a future version. Use .values instead.\n",
      "  \n"
     ]
    }
   ],
   "source": [
    "#Getting the file names in a workable format\n",
    "filemat = filenames.as_matrix()\n",
    "filemat = filemat.flatten()\n",
    "npoint = len(filemat)/4\n",
    "filemat = filemat.reshape([4,npoint])\n"
   ]
  },
  {
   "cell_type": "code",
   "execution_count": 4,
   "metadata": {
    "collapsed": false
   },
   "outputs": [],
   "source": [
    "#'toplot' is the variable that you'll be calculating in order to generate a color map. \n",
    "#toplot = 'Ipercent' #Percentage of pop. (TOTAL) infected over course of simulation\n",
    "toplot = 'nhigh'  #Number of patches that have 'high' infection - defined as greater than 5% of the pop.\n",
    "#set up a matrix to hold the values of this variable:\n",
    "plotmat = np.zeros([n,m])"
   ]
  },
  {
   "cell_type": "code",
   "execution_count": 5,
   "metadata": {
    "collapsed": false
   },
   "outputs": [],
   "source": [
    "#Select the subset of files you're going to work with (mostly for testing purposes):\n",
    "files_subset = []\n",
    "for i in range(n):\n",
    "    files_subset.append(filemat[:,n*m*i:n*m*(i+1)])\n",
    "\n",
    "#files_subset now contains nxm (x4, since there are I,S,R,and V files for each sim) \n",
    "#files for each of 10 different vaccination variance levels. If you want to make a grid looping over vacc. variance,\n",
    "#you'll have to change the code quite a bit."
   ]
  },
  {
   "cell_type": "code",
   "execution_count": 8,
   "metadata": {
    "collapsed": false
   },
   "outputs": [
    {
     "name": "stdout",
     "output_type": "stream",
     "text": [
      "(4, 100)\n",
      "cases_vaxvar0.194444444444_popvar0.01_pop100000.0_0.csv\n"
     ]
    }
   ],
   "source": [
    "#Select all files with the same vacc. variance.\n",
    "files = files_subset[4]\n",
    "print np.shape(files)\n",
    "print files[0,0]\n",
    "burnin = 800"
   ]
  },
  {
   "cell_type": "code",
   "execution_count": 9,
   "metadata": {
    "collapsed": false
   },
   "outputs": [
    {
     "name": "stdout",
     "output_type": "stream",
     "text": [
      "0\n",
      "cases_vaxvar0.194444444444_popvar0.01_pop100000.0_0.csv\n"
     ]
    },
    {
     "name": "stderr",
     "output_type": "stream",
     "text": [
      "/Users/laurasampson/anaconda/lib/python2.7/site-packages/ipykernel_launcher.py:13: FutureWarning: Method .as_matrix will be removed in a future version. Use .values instead.\n",
      "  del sys.path[0]\n",
      "/Users/laurasampson/anaconda/lib/python2.7/site-packages/ipykernel_launcher.py:14: FutureWarning: Method .as_matrix will be removed in a future version. Use .values instead.\n",
      "  \n",
      "/Users/laurasampson/anaconda/lib/python2.7/site-packages/ipykernel_launcher.py:15: FutureWarning: Method .as_matrix will be removed in a future version. Use .values instead.\n",
      "  from ipykernel import kernelapp as app\n",
      "/Users/laurasampson/anaconda/lib/python2.7/site-packages/ipykernel_launcher.py:16: FutureWarning: Method .as_matrix will be removed in a future version. Use .values instead.\n",
      "  app.launch_new_instance()\n"
     ]
    },
    {
     "name": "stdout",
     "output_type": "stream",
     "text": [
      "cases_vaxvar0.194444444444_popvar0.01_pop50000.0_0.csv\n",
      "cases_vaxvar0.194444444444_popvar0.01_pop55555.5555556_0.csv\n",
      "cases_vaxvar0.194444444444_popvar0.01_pop61111.1111111_0.csv\n",
      "cases_vaxvar0.194444444444_popvar0.01_pop66666.6666667_0.csv\n",
      "cases_vaxvar0.194444444444_popvar0.01_pop72222.2222222_0.csv\n",
      "cases_vaxvar0.194444444444_popvar0.01_pop77777.7777778_0.csv\n",
      "cases_vaxvar0.194444444444_popvar0.01_pop83333.3333333_0.csv\n",
      "cases_vaxvar0.194444444444_popvar0.01_pop88888.8888889_0.csv\n",
      "cases_vaxvar0.194444444444_popvar0.01_pop94444.4444444_0.csv\n",
      "1\n",
      "cases_vaxvar0.194444444444_popvar0.0311111111111_pop100000.0_0.csv\n",
      "cases_vaxvar0.194444444444_popvar0.0311111111111_pop50000.0_0.csv\n",
      "cases_vaxvar0.194444444444_popvar0.0311111111111_pop55555.5555556_0.csv\n",
      "cases_vaxvar0.194444444444_popvar0.0311111111111_pop61111.1111111_0.csv\n",
      "cases_vaxvar0.194444444444_popvar0.0311111111111_pop66666.6666667_0.csv\n",
      "cases_vaxvar0.194444444444_popvar0.0311111111111_pop72222.2222222_0.csv\n",
      "cases_vaxvar0.194444444444_popvar0.0311111111111_pop77777.7777778_0.csv\n",
      "cases_vaxvar0.194444444444_popvar0.0311111111111_pop83333.3333333_0.csv\n",
      "cases_vaxvar0.194444444444_popvar0.0311111111111_pop88888.8888889_0.csv\n",
      "cases_vaxvar0.194444444444_popvar0.0311111111111_pop94444.4444444_0.csv\n",
      "2\n",
      "cases_vaxvar0.194444444444_popvar0.0522222222222_pop100000.0_0.csv\n",
      "cases_vaxvar0.194444444444_popvar0.0522222222222_pop50000.0_0.csv\n",
      "cases_vaxvar0.194444444444_popvar0.0522222222222_pop55555.5555556_0.csv\n",
      "cases_vaxvar0.194444444444_popvar0.0522222222222_pop61111.1111111_0.csv\n",
      "cases_vaxvar0.194444444444_popvar0.0522222222222_pop66666.6666667_0.csv\n",
      "cases_vaxvar0.194444444444_popvar0.0522222222222_pop72222.2222222_0.csv\n",
      "cases_vaxvar0.194444444444_popvar0.0522222222222_pop77777.7777778_0.csv\n",
      "cases_vaxvar0.194444444444_popvar0.0522222222222_pop83333.3333333_0.csv\n",
      "cases_vaxvar0.194444444444_popvar0.0522222222222_pop88888.8888889_0.csv\n",
      "cases_vaxvar0.194444444444_popvar0.0522222222222_pop94444.4444444_0.csv\n",
      "3\n",
      "cases_vaxvar0.194444444444_popvar0.0733333333333_pop100000.0_0.csv\n",
      "cases_vaxvar0.194444444444_popvar0.0733333333333_pop50000.0_0.csv\n",
      "cases_vaxvar0.194444444444_popvar0.0733333333333_pop55555.5555556_0.csv\n",
      "cases_vaxvar0.194444444444_popvar0.0733333333333_pop61111.1111111_0.csv\n",
      "cases_vaxvar0.194444444444_popvar0.0733333333333_pop66666.6666667_0.csv\n",
      "cases_vaxvar0.194444444444_popvar0.0733333333333_pop72222.2222222_0.csv\n",
      "cases_vaxvar0.194444444444_popvar0.0733333333333_pop77777.7777778_0.csv\n",
      "cases_vaxvar0.194444444444_popvar0.0733333333333_pop83333.3333333_0.csv\n",
      "cases_vaxvar0.194444444444_popvar0.0733333333333_pop88888.8888889_0.csv\n",
      "cases_vaxvar0.194444444444_popvar0.0733333333333_pop94444.4444444_0.csv\n",
      "4\n",
      "cases_vaxvar0.194444444444_popvar0.0944444444444_pop100000.0_0.csv\n",
      "cases_vaxvar0.194444444444_popvar0.0944444444444_pop50000.0_0.csv\n",
      "cases_vaxvar0.194444444444_popvar0.0944444444444_pop55555.5555556_0.csv\n",
      "cases_vaxvar0.194444444444_popvar0.0944444444444_pop61111.1111111_0.csv\n",
      "cases_vaxvar0.194444444444_popvar0.0944444444444_pop66666.6666667_0.csv\n",
      "cases_vaxvar0.194444444444_popvar0.0944444444444_pop72222.2222222_0.csv\n",
      "cases_vaxvar0.194444444444_popvar0.0944444444444_pop77777.7777778_0.csv\n",
      "cases_vaxvar0.194444444444_popvar0.0944444444444_pop83333.3333333_0.csv\n",
      "cases_vaxvar0.194444444444_popvar0.0944444444444_pop88888.8888889_0.csv\n",
      "cases_vaxvar0.194444444444_popvar0.0944444444444_pop94444.4444444_0.csv\n",
      "5\n",
      "cases_vaxvar0.194444444444_popvar0.115555555556_pop100000.0_0.csv\n",
      "cases_vaxvar0.194444444444_popvar0.115555555556_pop50000.0_0.csv\n",
      "cases_vaxvar0.194444444444_popvar0.115555555556_pop55555.5555556_0.csv\n",
      "cases_vaxvar0.194444444444_popvar0.115555555556_pop61111.1111111_0.csv\n",
      "cases_vaxvar0.194444444444_popvar0.115555555556_pop66666.6666667_0.csv\n",
      "cases_vaxvar0.194444444444_popvar0.115555555556_pop72222.2222222_0.csv\n",
      "cases_vaxvar0.194444444444_popvar0.115555555556_pop77777.7777778_0.csv\n",
      "cases_vaxvar0.194444444444_popvar0.115555555556_pop83333.3333333_0.csv\n",
      "cases_vaxvar0.194444444444_popvar0.115555555556_pop88888.8888889_0.csv\n",
      "cases_vaxvar0.194444444444_popvar0.115555555556_pop94444.4444444_0.csv\n",
      "6\n",
      "cases_vaxvar0.194444444444_popvar0.136666666667_pop100000.0_0.csv\n",
      "cases_vaxvar0.194444444444_popvar0.136666666667_pop50000.0_0.csv\n",
      "cases_vaxvar0.194444444444_popvar0.136666666667_pop55555.5555556_0.csv\n",
      "cases_vaxvar0.194444444444_popvar0.136666666667_pop61111.1111111_0.csv\n",
      "cases_vaxvar0.194444444444_popvar0.136666666667_pop66666.6666667_0.csv\n",
      "cases_vaxvar0.194444444444_popvar0.136666666667_pop72222.2222222_0.csv\n",
      "cases_vaxvar0.194444444444_popvar0.136666666667_pop77777.7777778_0.csv\n",
      "cases_vaxvar0.194444444444_popvar0.136666666667_pop83333.3333333_0.csv\n",
      "cases_vaxvar0.194444444444_popvar0.136666666667_pop88888.8888889_0.csv\n",
      "cases_vaxvar0.194444444444_popvar0.136666666667_pop94444.4444444_0.csv\n",
      "7\n",
      "cases_vaxvar0.194444444444_popvar0.157777777778_pop100000.0_0.csv\n",
      "cases_vaxvar0.194444444444_popvar0.157777777778_pop50000.0_0.csv\n",
      "cases_vaxvar0.194444444444_popvar0.157777777778_pop55555.5555556_0.csv\n",
      "cases_vaxvar0.194444444444_popvar0.157777777778_pop61111.1111111_0.csv\n",
      "cases_vaxvar0.194444444444_popvar0.157777777778_pop66666.6666667_0.csv\n",
      "cases_vaxvar0.194444444444_popvar0.157777777778_pop72222.2222222_0.csv\n",
      "cases_vaxvar0.194444444444_popvar0.157777777778_pop77777.7777778_0.csv\n",
      "cases_vaxvar0.194444444444_popvar0.157777777778_pop83333.3333333_0.csv\n",
      "cases_vaxvar0.194444444444_popvar0.157777777778_pop88888.8888889_0.csv\n",
      "cases_vaxvar0.194444444444_popvar0.157777777778_pop94444.4444444_0.csv\n",
      "8\n",
      "cases_vaxvar0.194444444444_popvar0.178888888889_pop100000.0_0.csv\n",
      "cases_vaxvar0.194444444444_popvar0.178888888889_pop50000.0_0.csv\n",
      "cases_vaxvar0.194444444444_popvar0.178888888889_pop55555.5555556_0.csv\n",
      "cases_vaxvar0.194444444444_popvar0.178888888889_pop61111.1111111_0.csv\n",
      "cases_vaxvar0.194444444444_popvar0.178888888889_pop66666.6666667_0.csv\n",
      "cases_vaxvar0.194444444444_popvar0.178888888889_pop72222.2222222_0.csv\n",
      "cases_vaxvar0.194444444444_popvar0.178888888889_pop77777.7777778_0.csv\n",
      "cases_vaxvar0.194444444444_popvar0.178888888889_pop83333.3333333_0.csv\n",
      "cases_vaxvar0.194444444444_popvar0.178888888889_pop88888.8888889_0.csv\n",
      "cases_vaxvar0.194444444444_popvar0.178888888889_pop94444.4444444_0.csv\n",
      "9\n",
      "cases_vaxvar0.194444444444_popvar0.2_pop100000.0_0.csv\n",
      "cases_vaxvar0.194444444444_popvar0.2_pop50000.0_0.csv\n",
      "cases_vaxvar0.194444444444_popvar0.2_pop55555.5555556_0.csv\n",
      "cases_vaxvar0.194444444444_popvar0.2_pop61111.1111111_0.csv\n",
      "cases_vaxvar0.194444444444_popvar0.2_pop66666.6666667_0.csv\n",
      "cases_vaxvar0.194444444444_popvar0.2_pop72222.2222222_0.csv\n",
      "cases_vaxvar0.194444444444_popvar0.2_pop77777.7777778_0.csv\n",
      "cases_vaxvar0.194444444444_popvar0.2_pop83333.3333333_0.csv\n",
      "cases_vaxvar0.194444444444_popvar0.2_pop88888.8888889_0.csv\n",
      "cases_vaxvar0.194444444444_popvar0.2_pop94444.4444444_0.csv\n"
     ]
    }
   ],
   "source": [
    "#This loop reads through all of the files and calculates the output variable, storing it in the plotmat matrix.\n",
    "for i in range(n):\n",
    "    print i\n",
    "    for j in range(m):\n",
    "        #Read in data file\n",
    "        filenum = i*n+j%m\n",
    "        print files[0,filenum]\n",
    "        Ifile = pd.read_csv('../Sims/alpha10c0.1/'+files[0,filenum], delim_whitespace=True,header=0)\n",
    "        Sfile = pd.read_csv('../Sims/alpha10c0.1/'+files[1,filenum], delim_whitespace=True,header=0)\n",
    "        Rfile = pd.read_csv('../Sims/alpha10c0.1/'+files[2,filenum], delim_whitespace=True, header=0)\n",
    "        Vfile = pd.read_csv('../Sims/alpha10c0.1/'+files[3,filenum], delim_whitespace=True,header=0)\n",
    "        \n",
    "        Idata_all = Ifile.as_matrix()\n",
    "        Sdata_all = Sfile.as_matrix()\n",
    "        Rdata_all = Rfile.as_matrix()\n",
    "        Vdata_all = Vfile.as_matrix()\n",
    "                \n",
    "        Idata_all = Idata_all.astype(float)\n",
    "        Sdata_all = Sdata_all.astype(float)\n",
    "        Rdata_all = Rdata_all.astype(float)\n",
    "        Vdata_all = Vdata_all.astype(float)\n",
    "        \n",
    "        tsteps = len(Idata_all[:,0])\n",
    "        npatch = len(Idata_all[0,:])\n",
    "        \n",
    "        Idata = Idata_all[burnin:,:]\n",
    "        Sdata = Sdata_all[burnin:,:]\n",
    "        Rdata = Rdata_all[burnin:,:]\n",
    "        Vdata = Vdata_all[burnin:,:]\n",
    "        \n",
    "        '''print j\n",
    "        if (j-5)%10==0:\n",
    "            print files[0,filenum]\n",
    "            plt.plot(Idata)\n",
    "            '''\n",
    "        \n",
    "        #Outbreaks are identified as any string of more than one time-step during which I>0 in a cell.\n",
    "        if toplot=='Ipercent':\n",
    "            outsize = np.zeros(npatch)\n",
    "            k = 1\n",
    "            while k<(tsteps-burnin):\n",
    "                for r in range(npatch):\n",
    "                    if Idata[k,r] > 0.:\n",
    "                        if Idata[k-1,r] > 0.:\n",
    "                            outsize[r] += Idata[k,r]\n",
    "                k += 1\n",
    "\n",
    "            totinf = sum(outsize)\n",
    "            totpop = Idata+Sdata+Rdata+Vdata\n",
    "            totpop = sum(totpop)\n",
    "            fracinf = outsize/totpop\n",
    "            print np.shape(outsize)\n",
    "\n",
    "            plotmat[i,j] = max(fracinf)\n",
    "\n",
    "        if toplot=='nhigh':\n",
    "            nhigh = 0\n",
    "            k = 0\n",
    "            while k<(tsteps-burnin):\n",
    "                Ifrac = Idata[k,:]/(Idata[k,:]+Sdata[k,:]+Rdata[k,:]+Vdata[k,:])\n",
    "                mask = Ifrac>=0.05\n",
    "                Ihigh = Ifrac[mask]\n",
    "                #if len(Ihigh) < 400:\n",
    "                 #   print Ifrac\n",
    "                x = Ihigh*1.\n",
    "                #nhigh += sum(x)\n",
    "                nhigh += len(x)\n",
    "                k+=1\n",
    "            plotmat[i,j] = nhigh\n",
    "            \n",
    "        #This is where you'll be adding code to calculate some other quantities of interest"
   ]
  },
  {
   "cell_type": "code",
   "execution_count": 10,
   "metadata": {
    "collapsed": true
   },
   "outputs": [],
   "source": [
    "#Fix the ordering of columns.  i corresponds to popvar, j to popsize. This works for a 10x10 plot\n",
    "#This is a gross kludge and should be fixed in the above loop instead.\n",
    "holdcol0 = plotmat[:,0].copy()\n",
    "holdcol1 = plotmat[:,5].copy()\n",
    "matrix = plotmat.copy()\n",
    "matrix[:,0] = holdcol1               #the fifth column should be the first column\n",
    "matrix[:,5:9] = plotmat[:,6:].copy() #shift the last few columns left\n",
    "matrix[:,-1] = holdcol0              #last column replaced with first\n",
    "\n",
    "holdrow0 = matrix[0,:].copy()\n",
    "holdrow1 = matrix[1,:].copy()\n",
    "matrix[0,:] = holdrow1\n",
    "matrix[1,:] = holdrow0\n",
    "\n",
    "holdcol0 = plotmat[:,0].copy()\n",
    "matrix = plotmat.copy()\n",
    "matrix[:,0:-1] = plotmat[:,1:].copy()\n",
    "matrix[:,-1] = holdcol0\n",
    "\n",
    "#matrix[0,:] = holdrow1\n",
    "#matrix[1,:] = holdrow0"
   ]
  },
  {
   "cell_type": "code",
   "execution_count": 11,
   "metadata": {
    "collapsed": false
   },
   "outputs": [
    {
     "name": "stderr",
     "output_type": "stream",
     "text": [
      "/Users/laurasampson/anaconda/lib/python2.7/site-packages/matplotlib/font_manager.py:1328: UserWarning: findfont: Font family [u'sans-serif'] not found. Falling back to DejaVu Sans\n",
      "  (prop.get_family(), self.defaultFamily[fontext]))\n"
     ]
    },
    {
     "data": {
      "image/png": "[encoded data removed]",
      "text/plain": [
       "<Figure size 864x864 with 2 Axes>"
      ]
     },
     "metadata": {},
     "output_type": "display_data"
    }
   ],
   "source": [
    "#print out a heatmap of the output variable.\n",
    "fig, ax = plt.subplots(figsize=(12,12))\n",
    "cax = ax.imshow((matrix), interpolation='nearest', cmap='plasma',vmin=0.,vmax=20)\n",
    "ax.set_xticks(np.arange(0,10,1))\n",
    "ax.set_yticks(np.arange(0,10,1))\n",
    "ax.set_xticklabels(['50k','56k','61k','67k','72k','78k','83k','89k','94k','100k'],fontsize=12)\n",
    "ax.set_yticklabels([1.0,3.1,5.2,7.3,9.4,11.5,13.7,15.8,17.9,20.],fontsize=12)\n",
    "ax.set_xlabel('Population Size',fontsize=15)\n",
    "ax.set_ylabel('Pop. Variance (\\%)',fontsize=15)\n",
    "\n",
    "# Add colorbar, make sure to specify tick locations to match desired ticklabels\n",
    "cbar = fig.colorbar(cax)\n",
    "#cbar.ax.set_yticklabels(['< -1', '0', '> 1'])  # vertically oriented colorbar\n",
    "fig.tight_layout()\n",
    "\n",
    "plt.savefig('../Sims/alpha10c0.1/test.pdf')"
   ]
  },
  {
   "cell_type": "code",
   "execution_count": null,
   "metadata": {
    "collapsed": true
   },
   "outputs": [],
   "source": []
  }
 ],
 "metadata": {
  "kernelspec": {
   "display_name": "Python 2",
   "language": "python",
   "name": "python2"
  },
  "language_info": {
   "codemirror_mode": {
    "name": "ipython",
    "version": 2
   },
   "file_extension": ".py",
   "mimetype": "text/x-python",
   "name": "python",
   "nbconvert_exporter": "python",
   "pygments_lexer": "ipython2",
   "version": "2.7.12"
  }
 },
 "nbformat": 4,
 "nbformat_minor": 0
}
