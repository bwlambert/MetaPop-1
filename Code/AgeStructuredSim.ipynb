{
 "cells": [
  {
   "cell_type": "code",
   "execution_count": 197,
   "metadata": {
    "collapsed": true
   },
   "outputs": [],
   "source": [
    "#Load required libraries\n",
    "\n",
    "import scipy.integrate as spi     #integrater\n",
    "from scipy.integrate import ode   #ode solver\n",
    "from scipy.integrate import odeint\n",
    "import scipy.stats as sps\n",
    "import numpy as np                #a bunch fo math \n",
    "import matplotlib.pyplot as plt    #plotting package\n",
    "from matplotlib.ticker import FormatStrFormatter\n",
    "%matplotlib inline\n",
    "import seaborn                    #I just like the colors and style of Seaborn. it changes the defaults for \n",
    "seaborn.set_style('ticks')        #matplotlib\n",
    "seaborn.set_color_codes()\n",
    "\n",
    "from matplotlib import rc\n",
    "rc('font',**{'family':'sans-serif','sans-serif':['Helvetica']}) #set font for figures\n",
    "rc('text', usetex=True)   #allow use of tex in figure captions, etc.\n"
   ]
  },
  {
   "cell_type": "markdown",
   "metadata": {},
   "source": [
    "#### Age-structured SIR models ####\n",
    "\n",
    "The most simplistic SIR equations for an immunizing disease describe the change in the number (or proportion) of individuals in each of three classes: susceptible, immune, and recovered. They are\n",
    "\n",
    "\\begin{align}\n",
    "\\frac{dS}{dt} &= -\\beta I S \\\\\n",
    "\\frac{dI}{dt} &= \\beta I S - \\gamma I \\\\\n",
    "\\frac{dR}{dt} &= \\gamma I.\n",
    "\\end{align}\n",
    "\n",
    "Here, $\\gamma$ is the recovery rate, which is the inverse of the average length of infectiousness, and $\\beta$ gives the probability of an interaction between a susceptible and an infected individual resulting in a new infection. (Without birth or death incorporated into the model, these equations are of course subject to the constrant that $d/dt (S + I + R) =0$).\n",
    "\n",
    "As a first step, we'll numerically generate the solution to these equations."
   ]
  },
  {
   "cell_type": "code",
   "execution_count": 198,
   "metadata": {
    "collapsed": true
   },
   "outputs": [],
   "source": [
    "# The SIR model differential equations.\n",
    "def derivSIR(y, t, N, beta, gamma):\n",
    "    S, I, R = y\n",
    "    dSdt = -beta * S * I \n",
    "    dIdt = beta * S * I  - gamma * I\n",
    "    dRdt = gamma * I\n",
    "    return dSdt, dIdt, dRdt"
   ]
  },
  {
   "cell_type": "code",
   "execution_count": 199,
   "metadata": {
    "collapsed": false
   },
   "outputs": [],
   "source": [
    "#Define disease parameters. Ro is the average number of new cases an infected individual will\n",
    "#generate. A good number to use for measles is 16. gamma is the inverse of the recovery rate - i.e., it is the\n",
    "#average recovery time. beta is the probability that an interaction between susceptible and infected individuals will \n",
    "#lead to infection, and is defined via beta/gamma = Ro\n",
    "\n",
    "Ro = 16.\n",
    "gamma = 26. #1/(2 weeks) converted to year^-1\n",
    "beta = Ro*gamma\n",
    "\n",
    "#Set up time points for integration (in years, since this is how we defined gamma)\n",
    "t_start = 0.\n",
    "t_end = 0.5 #six months\n",
    "dt = 0.0025\n",
    "time = np.arange(t_start,t_end+dt,dt)"
   ]
  },
  {
   "cell_type": "code",
   "execution_count": 200,
   "metadata": {
    "collapsed": true
   },
   "outputs": [],
   "source": [
    "# Total population, N. (1, since we're going to evolve the proportions instead of the raw numbers.)\n",
    "N = 1.\n",
    "# Initial number of infected and recovered individuals, I0 and R0.\n",
    "I0, R0 = 0.1, 0\n",
    "# Everyone else, S0, is susceptible to infection initially.\n",
    "S0 = N - I0 - R0"
   ]
  },
  {
   "cell_type": "code",
   "execution_count": 201,
   "metadata": {
    "collapsed": false
   },
   "outputs": [],
   "source": [
    "# Initial conditions vector\n",
    "y0 = S0, I0, R0\n",
    "# Integrate the SIR equations over the time grid, t.\n",
    "ret = odeint(deriv, y0, time, args=(N, beta, gamma))\n",
    "S, I, R = ret.T"
   ]
  },
  {
   "cell_type": "code",
   "execution_count": 202,
   "metadata": {
    "collapsed": false
   },
   "outputs": [
    {
     "data": {
      "text/plain": [
       "[<matplotlib.lines.Line2D at 0x116409cd0>]"
      ]
     },
     "execution_count": 202,
     "metadata": {},
     "output_type": "execute_result"
    },
    {
     "data": {
      "image/png": "[encoded data removed]",
      "text/plain": [
       "<matplotlib.figure.Figure at 0x11632fbd0>"
      ]
     },
     "metadata": {},
     "output_type": "display_data"
    }
   ],
   "source": [
    "plt.plot(time,S)\n",
    "plt.plot(time,I)\n",
    "plt.plot(time,R)"
   ]
  },
  {
   "cell_type": "markdown",
   "metadata": {},
   "source": [
    "The above figure shows susceptible (blue), infected (green), and recovered (red) proportions for a fast-moving epidemic. This model inherently assumes that all people interact with the same probability, regardless of age, location, or anything else. That's not a great model for actual human interaction, so we can add things to the model to make it a bit more realistic. \n",
    "\n",
    "I'll show you how we add age to the model because I've got the code handy in Python, and the concept is basically identical to how we add location: you split people into gropus, then have those groups interact with some probability. This changes the S, I, and R variables from scalars to vectors, and beta from a scalar to a matrix, where each element of the matrix represents the 'beta value' for the interaction between two age classes."
   ]
  },
  {
   "cell_type": "code",
   "execution_count": 213,
   "metadata": {
    "collapsed": false
   },
   "outputs": [],
   "source": [
    "nage = 4             #Number of age classes\n",
    "bins = np.ones(nage) #Bins all set to same width.\n",
    "bins *= 10.\n",
    "\n",
    "gamma = np.ones(nage) #gamma is a vector now.\n",
    "gamma *= 26.          # 1./(2 weeks), converted to years.\n",
    "\n"
   ]
  },
  {
   "cell_type": "code",
   "execution_count": 277,
   "metadata": {
    "collapsed": true
   },
   "outputs": [],
   "source": [
    "#We have to define the derivative function in such a way that it can handle vectors and matrices:\n",
    "\n",
    "def derivAS(y, t, N, beta, gamma):\n",
    "    S = y[0:nage]\n",
    "    I = y[nage:2*nage]\n",
    "    R = y[2*nage:]\n",
    "    \n",
    "    dSdt = -np.multiply(np.dot(beta,I),S)      #dS/dt is -beta*S*I\n",
    "    dIdt = np.multiply(np.dot(beta,I),S)  - np.multiply(gamma,I)\n",
    "    dRdt = np.multiply(gamma,I)\n",
    "    \n",
    "    return np.hstack([dSdt,dIdt,dRdt])"
   ]
  },
  {
   "cell_type": "code",
   "execution_count": 320,
   "metadata": {
    "collapsed": false
   },
   "outputs": [
    {
     "name": "stdout",
     "output_type": "stream",
     "text": [
      "Ro: 1.9999999999999996\n"
     ]
    },
    {
     "data": {
      "text/plain": [
       "<matplotlib.image.AxesImage at 0x11c0b0690>"
      ]
     },
     "execution_count": 320,
     "metadata": {},
     "output_type": "execute_result"
    },
    {
     "data": {
      "image/png": "[encoded data removed]",
      "text/plain": [
       "<matplotlib.figure.Figure at 0x11c01c310>"
      ]
     },
     "metadata": {},
     "output_type": "display_data"
    }
   ],
   "source": [
    "#Assortative mixing matrix - strong on the diagonals, weak on the off-diagonals. People mix most with their\n",
    "#own age cohort.\n",
    "beta = np.ones(nage)\n",
    "beta = np.diag(beta)\n",
    "\n",
    "for i in range(nage):  #There is probably a more efficient way to do this...\n",
    "    for j in range(i,nage):\n",
    "        beta[i,j] = 0.9**(j-i+1.)\n",
    "        #if i != j:              #This will set all off-diagonals to zero - i.e., no age mixing.\n",
    "            #beta[i,j] = 0.\n",
    "for i in range(nage):\n",
    "    for j in range(i,nage):\n",
    "        beta[j,i] = beta[i,j]\n",
    "for i in range(nage):\n",
    "    beta[i,:] /= np.sum(beta[i,:])\n",
    "\n",
    "Ro = 2.\n",
    "maxeig = Ro*gamma[0] #Now, the maximum eigenvalue of the beta matrix needs to be set s.t. it gives Ro when \n",
    "                     #multiplied by gamma\n",
    "\n",
    "beta *= maxeig/np.max(np.linalg.eigvals(beta)) #Scale the matrix\n",
    "\n",
    "print 'Ro:',np.max(np.linalg.eigvals(beta))/gamma[0] #Check\n",
    "pl.imshow(beta, cmap='viridis',interpolation='none')"
   ]
  },
  {
   "cell_type": "markdown",
   "metadata": {},
   "source": [
    "The cell above this one generates an 'assortative' mixing matrix, that has strong interactions along the diagonal that get weaker further from the diagonal. This is illustrated in the figure produced - each block along the x/y axis represents one of the age groups, and the color is the strength of interactions between two age groups. Yellow is strong, dark blue is weak."
   ]
  },
  {
   "cell_type": "code",
   "execution_count": 321,
   "metadata": {
    "collapsed": false
   },
   "outputs": [],
   "source": [
    "#Set up initial population vectors\n",
    "S0 = np.ones(nage)\n",
    "I0 = np.ones(nage)\n",
    "R0 = np.zeros(nage)\n",
    "\n",
    "I0[0] *= 0.001\n",
    "I0[1:] = 0.\n",
    "S0 = 1. - I0\n",
    "\n",
    "\n",
    "t_start = 0.\n",
    "t_end = 0.5 #six months\n",
    "dt = 0.0025\n",
    "time = np.arange(t_start,t_end+dt,dt)\n",
    "\n",
    "y0 = np.hstack([S0,I0,R0])\n"
   ]
  },
  {
   "cell_type": "code",
   "execution_count": 322,
   "metadata": {
    "collapsed": false
   },
   "outputs": [
    {
     "name": "stdout",
     "output_type": "stream",
     "text": [
      "[0.999 1.    1.    1.   ] [0.001 0.    0.    0.   ] [0. 0. 0. 0.]\n"
     ]
    }
   ],
   "source": [
    "print S0, I0, R0"
   ]
  },
  {
   "cell_type": "code",
   "execution_count": 323,
   "metadata": {
    "collapsed": true
   },
   "outputs": [],
   "source": [
    "ret = odeint(derivAS, y0, time, args=(N, beta, gamma))"
   ]
  },
  {
   "cell_type": "code",
   "execution_count": 324,
   "metadata": {
    "collapsed": false
   },
   "outputs": [
    {
     "name": "stdout",
     "output_type": "stream",
     "text": [
      "(201, 12)\n"
     ]
    }
   ],
   "source": [
    "print np.shape(ret)"
   ]
  },
  {
   "cell_type": "code",
   "execution_count": 325,
   "metadata": {
    "collapsed": false
   },
   "outputs": [
    {
     "data": {
      "text/plain": [
       "[<matplotlib.lines.Line2D at 0x11c0f3e50>]"
      ]
     },
     "execution_count": 325,
     "metadata": {},
     "output_type": "execute_result"
    },
    {
     "data": {
      "image/png": "[encoded data removed]",
      "text/plain": [
       "<matplotlib.figure.Figure at 0x11a59ec90>"
      ]
     },
     "metadata": {},
     "output_type": "display_data"
    }
   ],
   "source": [
    "plt.plot(ret[:,0])\n",
    "plt.plot(ret[:,1])\n",
    "plt.plot(ret[:,2])"
   ]
  },
  {
   "cell_type": "code",
   "execution_count": null,
   "metadata": {
    "collapsed": true
   },
   "outputs": [],
   "source": []
  }
 ],
 "metadata": {
  "kernelspec": {
   "display_name": "Python 2",
   "language": "python",
   "name": "python2"
  },
  "language_info": {
   "codemirror_mode": {
    "name": "ipython",
    "version": 2
   },
   "file_extension": ".py",
   "mimetype": "text/x-python",
   "name": "python",
   "nbconvert_exporter": "python",
   "pygments_lexer": "ipython2",
   "version": "2.7.12"
  }
 },
 "nbformat": 4,
 "nbformat_minor": 0
}
